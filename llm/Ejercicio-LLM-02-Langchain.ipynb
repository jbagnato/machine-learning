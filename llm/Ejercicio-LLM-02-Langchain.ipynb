{
 "cells": [
  {
   "cell_type": "markdown",
   "id": "5bf2f531",
   "metadata": {},
   "source": [
    "# Ejercicio LLMs 2: LangChain\n",
    "## Aprende Machine Learning\n"
   ]
  },
  {
   "cell_type": "markdown",
   "id": "df0536a9",
   "metadata": {},
   "source": [
    "Instalamos librerias que utilizaremos en la Notebook"
   ]
  },
  {
   "cell_type": "code",
   "execution_count": null,
   "id": "73259b00",
   "metadata": {},
   "outputs": [],
   "source": [
    "# Crea un environment por ej con conda\n",
    "# !conda create -n ejercicio02 python=3.11\n",
    "# Activa el environment\n",
    "# !conda activate ejercicio02\n",
    "\n",
    "# Instalar las dependencias\n",
    "# !conda install ipykernel\n",
    "# !conda install langchain==0.3.20 -c conda-forge\n",
    "# !pip install langchain-openai langchain-community\n",
    "\n",
    "# Para el agente\n",
    "# !pip install -U wikipedia langchain_experimental numexpr duckduckgo-search ddgs\n"
   ]
  },
  {
   "cell_type": "code",
   "execution_count": null,
   "id": "ce4ed1dc",
   "metadata": {},
   "outputs": [],
   "source": [
    "from langchain.chat_models import ChatOpenAI\n",
    "\n",
    "import os\n",
    "\n",
    "if not os.environ.get(\"OPENAI_API_KEY\"):\n",
    "    # Usamos LM Studio en local\n",
    "    llm = ChatOpenAI(\n",
    "        openai_api_base=\"http://localhost:1234/v1\",\n",
    "        openai_api_key=\"lmstudio\",\n",
    "        )\n",
    "else:\n",
    "    # Usamos OpenAI en la nube\n",
    "    llm = ChatOpenAI(\n",
    "        model=\"gpt-4o-mini\",\n",
    "        # api_key=\"...\",\n",
    ")"
   ]
  },
  {
   "cell_type": "code",
   "execution_count": 3,
   "id": "1dd82817",
   "metadata": {},
   "outputs": [
    {
     "data": {
      "text/markdown": [
       "¡Por supuesto! Aquí tienes cinco lugares hermosos que puedes visitar en Galicia, cada uno con su encanto único:\n",
       "\n",
       "1. **Santiago de Compostela**: La capital espiritual del peregrinaje de Santiago es una ciudad rica en historia y patrimonio cultural. Su catedral, declarada Patrimonio de la Humanidad por la UNESCO, es un punto destacado y merece ser visitada.\n",
       "\n",
       "2. **Pontevedra**: Esta ciudad tiene un encanto urbano que combina arquitectura histórica con modernas zonas verdes, como el parque de A Mañá. También cuenta con una playa, Praia da Ria, que es ideal para disfrutar del mar durante un paseo o una caminata.\n",
       "\n",
       "3. **Finisterre**: Conocida como \"el fin del mundo\" por su promontorio de Finisterrae, es un lugar mágico y lleno de leyendas. La playa de Cabo Ortegal y la playa de Sanxenxo son destinos icónicos para observar el océano Atlántico.\n",
       "\n",
       "4. **O Grove**: Este pequeño pueblo minero en las montañas de La Guardia es un lugar perfecto para explorar su rica historia minera, visitar las ruinas del antiguo yacimiento y disfrutar de paisajes impresionantes con vistas al mar.\n",
       "\n",
       "5. **Coveiro**: En las Montañas do Candado, este pequeño pueblo ofrece una experiencia rural y tranquila en medio de la naturaleza. Ideal para quienes buscan un lugar menos turístico, es perfecto para pasear por sus caminos rurales o simplemente relajarse.\n",
       "\n",
       "Espero que estos destinos te inspiren a planificar tu visita a Galicia pronto!"
      ],
      "text/plain": [
       "<IPython.core.display.Markdown object>"
      ]
     },
     "execution_count": 3,
     "metadata": {},
     "output_type": "execute_result"
    }
   ],
   "source": [
    "from IPython.display import Markdown\n",
    "\n",
    "ai_msg = llm.invoke(\"Dime 5 sitios bonitos para visitar en Galicia\")\n",
    "md_text = ai_msg.content\n",
    "Markdown(md_text)"
   ]
  },
  {
   "cell_type": "markdown",
   "id": "ee52522d",
   "metadata": {},
   "source": [
    "# Uso de Templates"
   ]
  },
  {
   "cell_type": "code",
   "execution_count": 29,
   "id": "4043efea",
   "metadata": {},
   "outputs": [
    {
     "name": "stdout",
     "output_type": "stream",
     "text": [
      "input_variables=['cantidad', 'lugar'] input_types={} partial_variables={} template='Dime {cantidad} sitios bonitos para visitar en {lugar}'\n"
     ]
    }
   ],
   "source": [
    "from langchain.prompts import ChatPromptTemplate\n",
    "\n",
    "template_string = \"Dime {cantidad} sitios bonitos para visitar en {lugar}\"\n",
    "\n",
    "prompt_template = ChatPromptTemplate.from_template(template_string)\n",
    "\n",
    "print(prompt_template.messages[0].prompt)"
   ]
  },
  {
   "cell_type": "code",
   "execution_count": 30,
   "id": "0957542c",
   "metadata": {},
   "outputs": [
    {
     "name": "stdout",
     "output_type": "stream",
     "text": [
      "content='Dime 2 sitios bonitos para visitar en Roma' additional_kwargs={} response_metadata={}\n"
     ]
    }
   ],
   "source": [
    "cantidad = \"2\"\n",
    "lugar = \"Roma\"\n",
    "message = prompt_template.format_messages(\n",
    "                    cantidad=cantidad,\n",
    "                    lugar=lugar)\n",
    "print(message[0])"
   ]
  },
  {
   "cell_type": "code",
   "execution_count": 32,
   "id": "57ead89d",
   "metadata": {},
   "outputs": [
    {
     "data": {
      "text/markdown": [
       "¡Claro! Aquí tienes dos lugares maravillosos que no puedes perderte cuando visites Roma:\n",
       "\n",
       "1. **El Coliseo (Colosseo)**  \n",
       "   - *Qué es*: El emblemático anfiteatro romano, símbolo de la ingeniería y la cultura del Imperio.  \n",
       "   - *Por qué vale la pena visitarlo*: Puedes recorrer sus niveles, imaginar los combates de gladiadores y disfrutar de una vista panorámica de las ruinas circundantes. Además, el monumento ofrece visitas guiadas con audio en varios idiomas que cuentan la historia fascinante detrás de cada columna.\n",
       "\n",
       "2. **La Plaza de San Pedro (Piazza San Pietro) y la Basílica de San Pedro**  \n",
       "   - *Qué es*: El corazón espiritual del catolicismo, donde se reúne el Papa y millones de fieles. La plaza está diseñada por Gian Lorenzo Bernini, con columnas doradas que guían a los visitantes hacia la basílica.  \n",
       "   - *Por qué vale la pena visitarlo*: Puedes admirar la arquitectura renombrada de la Basílica (con su enorme cúpula de Miguel Ángel), subir a la terraza para una vista impresionante del Vaticano y explorar el Tesoro de San Pedro, que alberga reliquias históricas y obras de arte sacro.\n",
       "\n",
       "Ambos sitios combinan historia, arquitectura y un ambiente que te transporta directamente al corazón de Roma. ¡Disfruta tu viaje!"
      ],
      "text/plain": [
       "<IPython.core.display.Markdown object>"
      ]
     },
     "execution_count": 32,
     "metadata": {},
     "output_type": "execute_result"
    }
   ],
   "source": [
    "# Ejecutamos el LLM\n",
    "ai_msg = llm.invoke(message)\n",
    "md_text = ai_msg.content\n",
    "Markdown(md_text)"
   ]
  },
  {
   "cell_type": "markdown",
   "id": "e55765bc",
   "metadata": {},
   "source": [
    "# Cadenas (chaining)"
   ]
  },
  {
   "cell_type": "code",
   "execution_count": null,
   "id": "f7c2c7f2",
   "metadata": {},
   "outputs": [
    {
     "data": {
      "text/markdown": [
       "Ciudad de México (antes conocida como México DF) tiene muchos lugares hermosos y llenos de historia que vale la pena visitar. Aquí te menciono tres sugerencias:\n",
       "\n",
       "1. **Zócalo**: Es el corazón histórico de la ciudad, rodeado por importantes edificios como la Catedral Metropolitana, el Palacio Nacional y el Museo Nacional de Arte. El Zócalo es un excelente lugar para observar la arquitectura colonial y disfrutar del ambiente durante eventos culturales o festivos.\n",
       "\n",
       "2. **Palacio de Bellas Artes**: Este edificio es una joya artística que combina elementos de varias estilos, como el neoclásico y el barroco mexicano. Dentro del palacio se encuentra un famoso museo de arte que tiene colecciones de pinturas de importantes artistas mexicanos.\n",
       "\n",
       "3. **Plaza Garibaldi**: Conocida por su ambiente animado y música en vivo, especialmente mariachi, es un lugar ideal para degustar platillos tradicionales como tacos y mole y disfrutar la fiesta. La plaza también ofrece espectáculos de baile y shows culturales.\n",
       "\n",
       "Estos son solo algunos de los muchos lugares que puedes visitar en Ciudad de México; cada uno tiene su propia historia y encanto único."
      ],
      "text/plain": [
       "<IPython.core.display.Markdown object>"
      ]
     },
     "execution_count": 7,
     "metadata": {},
     "output_type": "execute_result"
    }
   ],
   "source": [
    "from langchain_core.output_parsers import StrOutputParser\n",
    "\n",
    "txt_parser = StrOutputParser()\n",
    "\n",
    "# Creamos la cadena\n",
    "chain = prompt_template | llm | txt_parser\n",
    "\n",
    "txt_msg = chain.invoke({\"cantidad\": \"3\", \"lugar\": \"Mexico DF\"})\n",
    "\n",
    "Markdown(txt_msg)"
   ]
  },
  {
   "cell_type": "markdown",
   "id": "3ce104ab",
   "metadata": {},
   "source": [
    "# Json Parser"
   ]
  },
  {
   "cell_type": "code",
   "execution_count": 8,
   "id": "7c3538f3",
   "metadata": {},
   "outputs": [
    {
     "data": {
      "text/plain": [
       "{'sitios_bonitos': [{'nombre': 'Parque Forestal',\n",
       "   'descripcion': 'Este parque es un oasis en medio de la ciudad, con hermosos caminos para pasear y una cascada que ofrece un bello panorama.'},\n",
       "  {'nombre': 'Plaza de Armas',\n",
       "   'descripcion': 'El corazón histórico de Santiago, esta plaza está rodeada por edificios coloniales e históricos, como el Palacio de La Moneda y la Catedral Metropolitana.'},\n",
       "  {'nombre': 'Costanera Norte',\n",
       "   'descripcion': 'Es una gran opción para disfrutar del aire fresco y admirar las vistas panorámicas de Santiago. También cuenta con áreas verdes y actividades al aire libre.'}]}"
      ]
     },
     "execution_count": 8,
     "metadata": {},
     "output_type": "execute_result"
    }
   ],
   "source": [
    "from langchain.prompts import PromptTemplate\n",
    "from langchain_core.output_parsers import JsonOutputParser\n",
    "\n",
    "json_parser = JsonOutputParser()\n",
    "\n",
    "prompt_template2 = PromptTemplate(\n",
    "    template=\"Dime {cantidad} sitios bonitos para visitar en {lugar}.\\n{format_instructions}\",\n",
    "    input_variables=[\"cantidad\", \"lugar\"],\n",
    "    partial_variables={\"format_instructions\": json_parser.get_format_instructions()},\n",
    ")\n",
    "chain = prompt_template2 | llm | json_parser\n",
    "\n",
    "json_msg = chain.invoke({\"cantidad\": \"3\", \"lugar\": \"Santiago de Chile\"})\n",
    "json_msg"
   ]
  },
  {
   "cell_type": "markdown",
   "id": "af9eb5d5",
   "metadata": {},
   "source": [
    "# Salida Estructurada: Objetos Pydantic"
   ]
  },
  {
   "cell_type": "markdown",
   "id": "f0b15d95",
   "metadata": {},
   "source": [
    "OJO! esto funciona sólo en algunos modelos, no es un estándard, por lo que puede fallar!.\n",
    "\n",
    "Probado con el modelo (pago) gpt4o-mini funciona correctamente.\n",
    "\n",
    "En local (gratis) funciona por ej. con el modelo gpt-oss-20b Instruct y DeepSeek"
   ]
  },
  {
   "cell_type": "code",
   "execution_count": 27,
   "id": "b759dae8",
   "metadata": {},
   "outputs": [
    {
     "data": {
      "text/plain": [
       "Sitio(nombre='Miami', puntos_de_interes=[Punto_de_Interes(nombre='South Beach', descripcion='La playa más conocida de Miami, conocida por sus arenas blancas y la línea de edificios Art Deco que rodean el agua. Un lugar perfecto para tomar fotos y disfrutar de la playa.'), Punto_de_Interes(nombre='Parque Nacional de los Everglades', descripcion='Un paisaje único donde se unen la ciudad y la naturaleza, conocido por su flora y fauna autóctona, como los aligátors. Es un destino ideal para el turismo ecológico.')])"
      ]
     },
     "execution_count": 27,
     "metadata": {},
     "output_type": "execute_result"
    }
   ],
   "source": [
    "from typing import List\n",
    "from pydantic import BaseModel, Field\n",
    "from langchain.output_parsers import PydanticOutputParser\n",
    "from langchain.prompts import PromptTemplate\n",
    "\n",
    "# Pydantic\n",
    "class Punto_de_Interes(BaseModel):\n",
    "    \"\"\"Descripcion de cada punto de interés.\"\"\"\n",
    "    nombre: str = Field(description=\"Nombre del punto de interés.\")\n",
    "    descripcion: str = Field(description=\"Breve descripción del punto de interés y su relevancia.\")\n",
    "\n",
    "class Sitio(BaseModel):\n",
    "    \"\"\"Sitio turístico para visitar.\"\"\"\n",
    "\n",
    "    nombre: str = Field(description=\"Nombre del lugar.\")\n",
    "    puntos_de_interes: List[Punto_de_Interes] = Field(description=\"Lista que contiene la cantidad de puntos solicitados por el usuario.\")\n",
    "\n",
    "pydantic_parser = PydanticOutputParser(pydantic_object=Sitio)\n",
    "\n",
    "prompt_template3 = PromptTemplate(\n",
    "    template=\"Dime {cantidad} sitios bonitos para visitar en {lugar}.\\nDevuelve un objeto JSON que siga exactamente este formato: {format_instructions}\",\n",
    "    input_variables=[\"cantidad\", \"lugar\"],\n",
    "    partial_variables={\"format_instructions\": pydantic_parser.get_format_instructions()},\n",
    ")\n",
    "chain = prompt_template3 | llm | pydantic_parser\n",
    "\n",
    "objeto_sitio = chain.invoke({\"cantidad\":2, \"lugar\": \"Miami\"})\n",
    "objeto_sitio"
   ]
  },
  {
   "cell_type": "code",
   "execution_count": 28,
   "id": "514faa0f",
   "metadata": {},
   "outputs": [
    {
     "data": {
      "text/plain": [
       "'South Beach'"
      ]
     },
     "execution_count": 28,
     "metadata": {},
     "output_type": "execute_result"
    }
   ],
   "source": [
    "objeto_sitio.puntos_de_interes[0].nombre"
   ]
  },
  {
   "cell_type": "markdown",
   "id": "e0d0cfa9",
   "metadata": {},
   "source": [
    "# Memoria"
   ]
  },
  {
   "cell_type": "code",
   "execution_count": 11,
   "id": "bad23bac",
   "metadata": {},
   "outputs": [
    {
     "name": "stdout",
     "output_type": "stream",
     "text": [
      "Una pelota de tenis tiene un tamaño específico según las normas del deporte. El diámetro de la pelota debe estar comprendido entre **6,35 cm** y **6,39 cm**, lo cual equivale a aproximadamente **2,51 pulgadas**.\n",
      "\n",
      "Si tienes alguna otra pregunta, ¡no dudes en decírmela!\n"
     ]
    }
   ],
   "source": [
    "from langchain_core.messages import HumanMessage, SystemMessage, AIMessage\n",
    "from langchain_core.prompts import MessagesPlaceholder\n",
    "from collections import deque\n",
    "\n",
    "prompt = ChatPromptTemplate.from_messages(\n",
    "    [\n",
    "        SystemMessage(\n",
    "            content=\"Eres un asistente que responde preguntas en Español.\"\n",
    "        ),\n",
    "        MessagesPlaceholder(variable_name=\"messages\"),\n",
    "    ]\n",
    ")\n",
    "\n",
    "# almacenará los últimos 50 mensajes\n",
    "lista_de_mensajes = deque(maxlen=50)\n",
    "\n",
    "lista_de_mensajes.append(HumanMessage(content=\"Hola, Mi color favorito es el azul.\"))\n",
    "\n",
    "lista_de_mensajes.append(AIMessage(content=\"Hola ¿En qué puedo ayudarte?.\"))\n",
    "\n",
    "lista_de_mensajes.append(HumanMessage(content=\"De que tamaño es una pelotita de tenis?\"))\n",
    "\n",
    "chain = prompt | llm\n",
    "\n",
    "ai_msg = chain.invoke(\n",
    "    {\n",
    "        \"messages\": list(lista_de_mensajes)\n",
    "    }\n",
    ")\n",
    "print(ai_msg.content)"
   ]
  },
  {
   "cell_type": "code",
   "execution_count": 12,
   "id": "78b39372",
   "metadata": {},
   "outputs": [
    {
     "name": "stdout",
     "output_type": "stream",
     "text": [
      "Tu color favorito es el azul, según mencionaste al principio. 😊 Si necesitas más información o ayuda sobre algo relacionado con el azul o cualquier otro tema, ¡estoy aquí para ayudarte!\n"
     ]
    }
   ],
   "source": [
    "# agrego a la memoria el mensaje previo\n",
    "lista_de_mensajes.append(AIMessage(content=ai_msg.content))\n",
    "\n",
    "# ponemos a prueba la memoria\n",
    "lista_de_mensajes.append(HumanMessage(content=\"¿Cuál es mi color favorito?\"))\n",
    "\n",
    "ai_msg = chain.invoke(\n",
    "    {\n",
    "        \"messages\": list(lista_de_mensajes)\n",
    "    }\n",
    ")\n",
    "print(ai_msg.content)"
   ]
  },
  {
   "cell_type": "markdown",
   "id": "6a70a1e3",
   "metadata": {},
   "source": [
    "# Flujos de Datos\n",
    "\n",
    "# Secuencial"
   ]
  },
  {
   "cell_type": "code",
   "execution_count": 13,
   "id": "ec451e70",
   "metadata": {},
   "outputs": [
    {
     "data": {
      "text/markdown": [
       "**Sidney: Un Salto al Altamar de la Aventura**\n",
       "\n",
       "Si estás buscando una escapada que te inunde de emociones y experiencias únicas, Sidney es tu próxima parada perfecta. Este paraíso urbano ofrece un sinfín de actividades que prometen adrenalina y diversión. Explora las playas de Manly, donde los surfistas expertos deslizan suavemente sobre olas majestuosas. No te quedes quieto en las calles animadas de Darling Harbour, llenas de mercados nocturnos y restaurantes exquisitos. Y si prefieres algo más tranquilo, la isla de Cockatoo es ideal para pasear por sus verdes caminos y relajarte bajo el sol. Sidney no solo te sorprende con su hermoso paisaje sino que también te invita a vivir una aventura inolvidable en cada paso que das."
      ],
      "text/plain": [
       "<IPython.core.display.Markdown object>"
      ]
     },
     "execution_count": 13,
     "metadata": {},
     "output_type": "execute_result"
    }
   ],
   "source": [
    "prompt_1 = ChatPromptTemplate.from_template(template=\"Crea tres títulos cortos y atrapantes para animar a quien lea a visitar {lugar}\")\n",
    "\n",
    "prompt_2 = ChatPromptTemplate.from_template(template=\"Crea un parrafo corto en base a estos títulos: {titulos}. Que el texto incluya puntos de interés. Al principio del parrafo; incluye el mejor título y descarta el resto.\")\n",
    "\n",
    "chain = prompt_1 | llm | {'titulos' : txt_parser} | prompt_2 | llm | txt_parser\n",
    "\n",
    "articulo = chain.invoke({\"lugar\": \"Sidney, Australia\"})\n",
    "\n",
    "Markdown(articulo)"
   ]
  },
  {
   "cell_type": "markdown",
   "id": "3f6a7266",
   "metadata": {},
   "source": [
    "## Paralelo"
   ]
  },
  {
   "cell_type": "code",
   "execution_count": 14,
   "id": "09e7d8e8",
   "metadata": {},
   "outputs": [
    {
     "name": "stdout",
     "output_type": "stream",
     "text": [
      "Población: 11572000\n",
      "\n",
      "                Comida típica: Waffles, fries con mayonesa, chocolate.\n"
     ]
    }
   ],
   "source": [
    "from langchain_core.runnables import RunnableLambda\n",
    "\n",
    "prompt_1 = ChatPromptTemplate.from_template(template=\"Dame la población de {lugar}. Responde únicamente el número. Sin Markdown.\")\n",
    "\n",
    "prompt_2 = ChatPromptTemplate.from_template(template=\"Dime la comida típica de: {lugar}. Responde con muy pocas palabras. Sin Markdown.\")\n",
    "\n",
    "def combinar_salidas(inputs):\n",
    "    return f\"\"\"Población: {inputs['salida_1']}\\n\n",
    "                Comida típica: {inputs['salida_2']}\"\"\"\n",
    "\n",
    "chain_1 = prompt_1 | llm | txt_parser\n",
    "chain_2 = prompt_2 | llm | txt_parser\n",
    "\n",
    "chain = {'salida_1' : chain_1,\n",
    "         'salida_2' : chain_2\n",
    "         } | RunnableLambda(combinar_salidas)\n",
    "\n",
    "salida = chain.invoke({\"lugar\": \"Bélgica\"})\n",
    "\n",
    "print(salida)"
   ]
  },
  {
   "cell_type": "markdown",
   "id": "bcb1d255",
   "metadata": {},
   "source": [
    "## Router / Bifurcación de flujo"
   ]
  },
  {
   "cell_type": "code",
   "execution_count": 15,
   "id": "1d09daae",
   "metadata": {},
   "outputs": [
    {
     "name": "stdout",
     "output_type": "stream",
     "text": [
      "Pregunta sobre planetas\n"
     ]
    },
    {
     "data": {
      "text/markdown": [
       "Júpiter es el planeta con más lunas confirmadas en nuestro sistema solar, y actualmente se sabe que posee **149 lunas** registradas (aunque este número puede variar ligeramente ya que algunas lunas menores no siempre son reconocidas de forma oficial).\n",
       "\n",
       "Sin embargo, para responder de manera detallada:\n",
       "\n",
       "### Lunas principales:\n",
       "Júpiter tiene cuatro grandes lunas descubiertas por Galileo en 1610, las llamadas **cuatro lunas gigantes** o **Galileanas**, que incluyen:\n",
       "1. **Europa**: Es conocida por su gruesa capa de hielo y posibles océanos subsurfacos bajo ese hielo.\n",
       "2. **Ganimedes**: La mayor luna del sistema solar, con una superficie diversa que incluye lagos de metano, geysers y vastas extensiones de hielo.\n",
       "3. **Io**: Conocida por sus numerosos volcanes activos y su atmósfera de origen volcánico.\n",
       "4. **Callisto**: La cuarta luna gigante, con un relieve marcado por crateras grandes y fajas de coloración variedad.\n",
       "\n",
       "### Lunas medias:\n",
       "Estas lunas tienen diámetros entre 10 km y unos pocos cientos de kilómetros, y comprenden a lunas como:\n",
       "- Amaltea\n",
       "- Adrastea\n",
       "- Sinope\n",
       "- Metis\n",
       "\n",
       "### Lunas menores o pequeñas:\n",
       "Estas son las lunas más pequeñas, con diámetros inferiores a 10 km. El sistema de Júpiter tiene una gran cantidad de estas lunas, que han sido descubiertas en campañas recientes.\n",
       "\n",
       "Además, hay algunas categorías intermedias o subcategorizadas, como las lunas sin nombre (que aún no tienen un nombre oficial), y los satélites adquiridos por Júpiter tras su formación original. También es posible que nuevas lunas menores sean descubiertas en el futuro.\n",
       "\n",
       "En resumen, aunque la cifra de 149 se considera actualmente correcta, siempre hay posibilidades de nuevos hallazgos o reevaluaciones del estado de algunas lunas."
      ],
      "text/plain": [
       "<IPython.core.display.Markdown object>"
      ]
     },
     "execution_count": 15,
     "metadata": {},
     "output_type": "execute_result"
    }
   ],
   "source": [
    "prompt_1 = ChatPromptTemplate.from_template(template=\"Eres un experto sobre el Espacio y los planetas. Responde detalladamente a la siguiente pregunta: {pregunta}\")\n",
    "\n",
    "prompt_2 = ChatPromptTemplate.from_template(template=\"Eres muy fan del fútbol. Responde la pregunta dando analogías del mundo del fútbol: {pregunta}\")\n",
    "\n",
    "prompt_0 = ChatPromptTemplate.from_template(template=\"Dime si la siguiente pregunta es acerca de un planeta, astronomía o el espacio. Pregunta: {pregunta}. Responde únicamente con SI o NO.\")\n",
    "\n",
    "chain_1 = prompt_1 | llm | txt_parser\n",
    "chain_2 = prompt_2 | llm | txt_parser\n",
    "chain_0 = prompt_0 | llm | txt_parser\n",
    "\n",
    "def router(input):\n",
    "    es_planeta = chain_0.invoke({'pregunta': input[\"pregunta\"]})\n",
    "\n",
    "    if \"SI\" in es_planeta:\n",
    "        print(\"Pregunta sobre planetas\")\n",
    "        return chain_1\n",
    "    else:\n",
    "        print(\"No es pregunta sobre planetas\")\n",
    "        return chain_2\n",
    "\n",
    "router_chain = RunnableLambda(router)\n",
    "\n",
    "salida = router_chain.invoke({\"pregunta\": \"¿Cuántas lunas tiene Júpiter?\"})\n",
    "\n",
    "Markdown(salida)"
   ]
  },
  {
   "cell_type": "markdown",
   "id": "3c1aad1f",
   "metadata": {},
   "source": [
    "# Agente sencillo"
   ]
  },
  {
   "cell_type": "code",
   "execution_count": null,
   "id": "c6ff53e4",
   "metadata": {},
   "outputs": [],
   "source": [
    "from langchain.agents import load_tools, initialize_agent, Tool\n",
    "from langchain.agents import AgentType, tool\n",
    "from langchain.utilities import DuckDuckGoSearchAPIWrapper"
   ]
  },
  {
   "cell_type": "code",
   "execution_count": 17,
   "id": "31da97c8",
   "metadata": {},
   "outputs": [],
   "source": [
    "duck = DuckDuckGoSearchAPIWrapper(region=\"es-es\", max_results=5)\n",
    "\n",
    "tools = load_tools([\"llm-math\",\"wikipedia\"], llm=llm)\n",
    "\n",
    "ducktool = [Tool(\n",
    "        name=\"duckduckgo\",\n",
    "        func=duck.run,\n",
    "        description=\"Util para realizar búsquedas en internet.\",\n",
    "    ),]\n"
   ]
  },
  {
   "cell_type": "code",
   "execution_count": 18,
   "id": "8ff40a58",
   "metadata": {},
   "outputs": [
    {
     "name": "stderr",
     "output_type": "stream",
     "text": [
      "/var/folders/98/vy0n29r57p5ctr261ywmdg2r0000gn/T/ipykernel_39636/2459508955.py:1: LangChainDeprecationWarning: LangChain agents will continue to be supported, but it is recommended for new use cases to be built with LangGraph. LangGraph offers a more flexible and full-featured framework for building agents, including support for tool-calling, persistence of state, and human-in-the-loop workflows. For details, refer to the `LangGraph documentation <https://langchain-ai.github.io/langgraph/>`_ as well as guides for `Migrating from AgentExecutor <https://python.langchain.com/docs/how_to/migrate_agent/>`_ and LangGraph's `Pre-built ReAct agent <https://langchain-ai.github.io/langgraph/how-tos/create-react-agent/>`_.\n",
      "  agent = initialize_agent(\n"
     ]
    }
   ],
   "source": [
    "agent = initialize_agent(\n",
    "    tools=tools + ducktool,\n",
    "    llm=llm,\n",
    "    agent=AgentType.CHAT_ZERO_SHOT_REACT_DESCRIPTION,\n",
    "    handle_parsing_errors=True,\n",
    "    #max_iterations=10,\n",
    "    verbose = True)"
   ]
  },
  {
   "cell_type": "code",
   "execution_count": 20,
   "id": "7c16e55d",
   "metadata": {},
   "outputs": [
    {
     "name": "stdout",
     "output_type": "stream",
     "text": [
      "\n",
      "\n",
      "\u001b[1m> Entering new AgentExecutor chain...\u001b[0m\n",
      "\u001b[32;1m\u001b[1;3mThought: I need to find out the year Quino (Hernán Funes) died to answer the question.\n",
      "Action:\n",
      "```\n",
      "{\n",
      "  \"action\": \"duckduckgo\",\n",
      "  \"action_input\": \"Quino date of death\"\n",
      "}\n",
      "```\u001b[0m\n",
      "Observation: \u001b[38;5;200m\u001b[1;3mMafalda as a site of refuge : Quino 's comic, state repression, and audiences in ... Latinos mourn death of Quino , creator of \"Mafalda\" cartoon\" . ... Quino and Brascó offered Mafalda ... Final years and death In 1990, Quino settled down in Spain and naturalized himself to become a Spanish citizen. The bulk of his career to date has been literary translation but in the 1980s and 1990s he was a comics editor at London-based British publisher ... date of death ... https://books.google.com.ar/books?id=t2-_DwAAQBAJ&pg=PT124&lpg=PT124&dq=max+moritz+prize+ quino &source=bl&ots ... The Adventures of Amina Al-Sirafi \" is an entertaining read for anyone seeking a captivating blend of history, magic, and quirky badass ...\u001b[0m\n",
      "Thought:\u001b[32;1m\u001b[1;3mThe information I found mentions Quino's settling down in Spain in 1990 but does not provide his date of death. Let me try again to find the exact year he passed away.\n",
      "\n",
      "Action:\n",
      "```\n",
      "{\n",
      "  \"action\": \"duckduckgo\",\n",
      "  \"action_input\": \"date of death Quino\"\n",
      "}\n",
      "```\u001b[0m\n",
      "Observation: \u001b[38;5;200m\u001b[1;3mJuly 29, 2025 - Joaquín Salvador Lavado Tejón (17 July 1932 – 30 September 2020 ), better known by his pen name Quino (Spanish: [ˈkino]), was an Argentine cartoonist. His comic strip Mafalda (which ran from 1964 to 1973) is popular in many parts of the Americas and Europe and has been praised for its use ... 1 day ago - However, President Marcos would reaffirm such death sentence on July 31, 1983 . August 16, 2025 - Zebb Wayne Quinn (May 12, 1981 – c. January 2, 2000) was an American teenager who went missing in Asheville, North Carolina. Quinn was 18 years old and working at a local Walmart when he disappeared after finishing his shift. His car was discovered several days later in a restaurant parking ... June 1, 2025 - Quintin Phillippe Jones (July 15, 1979 – May 19, 2021) was an American man from Livingston, Texas, who was executed for the 1999 killing of his great-aunt, Berthena Bryant. Bryant's family and over 120,000 other people petitioned Texas Governor Greg Abbott for clemency to commute his death ... August 4, 2025 - The following is a list of presidents of the United States by date of death , plus additional lists of presidential death related statistics.\u001b[0m\n",
      "Thought:\u001b[32;1m\u001b[1;3mThe information I found states that Quino passed away on September 30, 2020. \n",
      "\n",
      "Final Answer: Quino died on September 30, 2020.\u001b[0m\n",
      "\n",
      "\u001b[1m> Finished chain.\u001b[0m\n"
     ]
    }
   ],
   "source": [
    "pregunta = \"Mafalda es una historieta famosa de la Argentina. ¿Cuando murió su autor, Quino? Usa las herramientas a tu disposición para responder.\"\n",
    "result = agent(pregunta)"
   ]
  },
  {
   "cell_type": "code",
   "execution_count": 21,
   "id": "640fbe8d",
   "metadata": {},
   "outputs": [
    {
     "data": {
      "text/plain": [
       "'Quino died on September 30, 2020.'"
      ]
     },
     "execution_count": 21,
     "metadata": {},
     "output_type": "execute_result"
    }
   ],
   "source": [
    "result[\"output\"]"
   ]
  },
  {
   "cell_type": "markdown",
   "id": "5ee2e57f",
   "metadata": {},
   "source": [
    "## Define una herramienta propia"
   ]
  },
  {
   "cell_type": "code",
   "execution_count": null,
   "id": "41e7d8ed",
   "metadata": {},
   "outputs": [
    {
     "name": "stdout",
     "output_type": "stream",
     "text": [
      "\n",
      "\n",
      "\u001b[1m> Entering new AgentExecutor chain...\u001b[0m\n",
      "\u001b[32;1m\u001b[1;3mThought: Necesito usar la función creador_de_motes para generar un mote divertido.\n",
      "Action:\n",
      "```\n",
      "{\n",
      "  \"action\": \"creador_de_motes\",\n",
      "  \"action_input\": \"Alejandro\"\n",
      "}\n",
      "```\u001b[0m\n",
      "Observation: \u001b[36;1m\u001b[1;3mCrack\u001b[0m\n",
      "Thought:\u001b[32;1m\u001b[1;3mI now know the final answer\n",
      "Final Answer: Un buen mote para el nombre Alejandro podría ser \"Crack\".\u001b[0m\n",
      "\n",
      "\u001b[1m> Finished chain.\u001b[0m\n"
     ]
    }
   ],
   "source": [
    "\n",
    "@tool\n",
    "def creador_de_motes(nombre: str) -> str:\n",
    "    \"\"\"Esta funcion recibe un nombre y devuelve un mote divertido.\"\"\"\n",
    "    return \"Crack\"\n",
    "\n",
    "agent= initialize_agent(\n",
    "    [creador_de_motes], \n",
    "    llm, \n",
    "    agent=AgentType.CHAT_ZERO_SHOT_REACT_DESCRIPTION,\n",
    "    handle_parsing_errors=True,\n",
    "    verbose = True)\n",
    "\n",
    "result = agent(\"Cual es un buen mote para el nombre Alejandro?.\")"
   ]
  },
  {
   "cell_type": "code",
   "execution_count": 23,
   "id": "396f2396",
   "metadata": {},
   "outputs": [
    {
     "data": {
      "text/plain": [
       "'Un buen mote para el nombre Alejandro podría ser \"Crack\".'"
      ]
     },
     "execution_count": 23,
     "metadata": {},
     "output_type": "execute_result"
    }
   ],
   "source": [
    "result[\"output\"]"
   ]
  }
 ],
 "metadata": {
  "kernelspec": {
   "display_name": "ejercicio02",
   "language": "python",
   "name": "python3"
  },
  "language_info": {
   "codemirror_mode": {
    "name": "ipython",
    "version": 3
   },
   "file_extension": ".py",
   "mimetype": "text/x-python",
   "name": "python",
   "nbconvert_exporter": "python",
   "pygments_lexer": "ipython3",
   "version": "3.11.13"
  }
 },
 "nbformat": 4,
 "nbformat_minor": 5
}
