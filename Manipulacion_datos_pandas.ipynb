{
 "cells": [
  {
   "cell_type": "code",
   "execution_count": null,
   "metadata": {
    "ExecuteTime": {
     "end_time": "2019-11-01T15:44:14.468508Z",
     "start_time": "2019-11-01T15:44:12.562054Z"
    }
   },
   "outputs": [],
   "source": [
    "import pandas as pd\n"
   ]
  },
  {
   "cell_type": "markdown",
   "metadata": {},
   "source": [
    "# Creamos un Dataset"
   ]
  },
  {
   "cell_type": "code",
   "execution_count": 207,
   "metadata": {
    "ExecuteTime": {
     "end_time": "2019-11-01T15:44:14.478192Z",
     "start_time": "2019-11-01T15:44:14.471473Z"
    }
   },
   "outputs": [],
   "source": [
    "df = pd.DataFrame(data={\"Pais\":['Mexico', 'Argentina', 'Espana', 'Colombia'],\n",
    "                        \"Poblacion\":[127212000, 45167000, 47099000, 48922000]})"
   ]
  },
  {
   "cell_type": "code",
   "execution_count": 208,
   "metadata": {
    "ExecuteTime": {
     "end_time": "2019-11-01T15:44:14.504353Z",
     "start_time": "2019-11-01T15:44:14.481401Z"
    }
   },
   "outputs": [
    {
     "data": {
      "text/html": [
       "<div>\n",
       "<style scoped>\n",
       "    .dataframe tbody tr th:only-of-type {\n",
       "        vertical-align: middle;\n",
       "    }\n",
       "\n",
       "    .dataframe tbody tr th {\n",
       "        vertical-align: top;\n",
       "    }\n",
       "\n",
       "    .dataframe thead th {\n",
       "        text-align: right;\n",
       "    }\n",
       "</style>\n",
       "<table border=\"1\" class=\"dataframe\">\n",
       "  <thead>\n",
       "    <tr style=\"text-align: right;\">\n",
       "      <th></th>\n",
       "      <th>Pais</th>\n",
       "      <th>Poblacion</th>\n",
       "    </tr>\n",
       "  </thead>\n",
       "  <tbody>\n",
       "    <tr>\n",
       "      <th>0</th>\n",
       "      <td>Mexico</td>\n",
       "      <td>127212000</td>\n",
       "    </tr>\n",
       "    <tr>\n",
       "      <th>1</th>\n",
       "      <td>Argentina</td>\n",
       "      <td>45167000</td>\n",
       "    </tr>\n",
       "    <tr>\n",
       "      <th>2</th>\n",
       "      <td>Espana</td>\n",
       "      <td>47099000</td>\n",
       "    </tr>\n",
       "    <tr>\n",
       "      <th>3</th>\n",
       "      <td>Colombia</td>\n",
       "      <td>48922000</td>\n",
       "    </tr>\n",
       "  </tbody>\n",
       "</table>\n",
       "</div>"
      ],
      "text/plain": [
       "        Pais  Poblacion\n",
       "0     Mexico  127212000\n",
       "1  Argentina   45167000\n",
       "2     Espana   47099000\n",
       "3   Colombia   48922000"
      ]
     },
     "execution_count": 208,
     "metadata": {},
     "output_type": "execute_result"
    }
   ],
   "source": [
    "df\n"
   ]
  },
  {
   "cell_type": "markdown",
   "metadata": {},
   "source": [
    "## Ordenamos por columna"
   ]
  },
  {
   "cell_type": "code",
   "execution_count": 209,
   "metadata": {
    "ExecuteTime": {
     "end_time": "2019-11-01T15:44:14.527018Z",
     "start_time": "2019-11-01T15:44:14.514223Z"
    }
   },
   "outputs": [
    {
     "data": {
      "text/html": [
       "<div>\n",
       "<style scoped>\n",
       "    .dataframe tbody tr th:only-of-type {\n",
       "        vertical-align: middle;\n",
       "    }\n",
       "\n",
       "    .dataframe tbody tr th {\n",
       "        vertical-align: top;\n",
       "    }\n",
       "\n",
       "    .dataframe thead th {\n",
       "        text-align: right;\n",
       "    }\n",
       "</style>\n",
       "<table border=\"1\" class=\"dataframe\">\n",
       "  <thead>\n",
       "    <tr style=\"text-align: right;\">\n",
       "      <th></th>\n",
       "      <th>Pais</th>\n",
       "      <th>Poblacion</th>\n",
       "    </tr>\n",
       "  </thead>\n",
       "  <tbody>\n",
       "    <tr>\n",
       "      <th>0</th>\n",
       "      <td>Mexico</td>\n",
       "      <td>127212000</td>\n",
       "    </tr>\n",
       "    <tr>\n",
       "      <th>3</th>\n",
       "      <td>Colombia</td>\n",
       "      <td>48922000</td>\n",
       "    </tr>\n",
       "    <tr>\n",
       "      <th>2</th>\n",
       "      <td>Espana</td>\n",
       "      <td>47099000</td>\n",
       "    </tr>\n",
       "    <tr>\n",
       "      <th>1</th>\n",
       "      <td>Argentina</td>\n",
       "      <td>45167000</td>\n",
       "    </tr>\n",
       "  </tbody>\n",
       "</table>\n",
       "</div>"
      ],
      "text/plain": [
       "        Pais  Poblacion\n",
       "0     Mexico  127212000\n",
       "3   Colombia   48922000\n",
       "2     Espana   47099000\n",
       "1  Argentina   45167000"
      ]
     },
     "execution_count": 209,
     "metadata": {},
     "output_type": "execute_result"
    }
   ],
   "source": [
    "df.sort_values([\"Poblacion\"], ascending=False)\n"
   ]
  },
  {
   "cell_type": "code",
   "execution_count": 210,
   "metadata": {
    "ExecuteTime": {
     "end_time": "2019-11-01T15:44:14.539098Z",
     "start_time": "2019-11-01T15:44:14.529889Z"
    }
   },
   "outputs": [
    {
     "data": {
      "text/html": [
       "<div>\n",
       "<style scoped>\n",
       "    .dataframe tbody tr th:only-of-type {\n",
       "        vertical-align: middle;\n",
       "    }\n",
       "\n",
       "    .dataframe tbody tr th {\n",
       "        vertical-align: top;\n",
       "    }\n",
       "\n",
       "    .dataframe thead th {\n",
       "        text-align: right;\n",
       "    }\n",
       "</style>\n",
       "<table border=\"1\" class=\"dataframe\">\n",
       "  <thead>\n",
       "    <tr style=\"text-align: right;\">\n",
       "      <th></th>\n",
       "      <th>Pais</th>\n",
       "      <th>Poblacion</th>\n",
       "    </tr>\n",
       "  </thead>\n",
       "  <tbody>\n",
       "    <tr>\n",
       "      <th>1</th>\n",
       "      <td>Argentina</td>\n",
       "      <td>45167000</td>\n",
       "    </tr>\n",
       "    <tr>\n",
       "      <th>3</th>\n",
       "      <td>Colombia</td>\n",
       "      <td>48922000</td>\n",
       "    </tr>\n",
       "    <tr>\n",
       "      <th>2</th>\n",
       "      <td>Espana</td>\n",
       "      <td>47099000</td>\n",
       "    </tr>\n",
       "    <tr>\n",
       "      <th>0</th>\n",
       "      <td>Mexico</td>\n",
       "      <td>127212000</td>\n",
       "    </tr>\n",
       "  </tbody>\n",
       "</table>\n",
       "</div>"
      ],
      "text/plain": [
       "        Pais  Poblacion\n",
       "1  Argentina   45167000\n",
       "3   Colombia   48922000\n",
       "2     Espana   47099000\n",
       "0     Mexico  127212000"
      ]
     },
     "execution_count": 210,
     "metadata": {},
     "output_type": "execute_result"
    }
   ],
   "source": [
    "df = df.sort_values([\"Pais\"])\n",
    "df\n"
   ]
  },
  {
   "cell_type": "markdown",
   "metadata": {},
   "source": [
    "## Agregar una columna"
   ]
  },
  {
   "cell_type": "code",
   "execution_count": 211,
   "metadata": {
    "ExecuteTime": {
     "end_time": "2019-11-01T15:44:14.550702Z",
     "start_time": "2019-11-01T15:44:14.541083Z"
    }
   },
   "outputs": [
    {
     "data": {
      "text/html": [
       "<div>\n",
       "<style scoped>\n",
       "    .dataframe tbody tr th:only-of-type {\n",
       "        vertical-align: middle;\n",
       "    }\n",
       "\n",
       "    .dataframe tbody tr th {\n",
       "        vertical-align: top;\n",
       "    }\n",
       "\n",
       "    .dataframe thead th {\n",
       "        text-align: right;\n",
       "    }\n",
       "</style>\n",
       "<table border=\"1\" class=\"dataframe\">\n",
       "  <thead>\n",
       "    <tr style=\"text-align: right;\">\n",
       "      <th></th>\n",
       "      <th>Pais</th>\n",
       "      <th>Poblacion</th>\n",
       "      <th>Superficie</th>\n",
       "    </tr>\n",
       "  </thead>\n",
       "  <tbody>\n",
       "    <tr>\n",
       "      <th>1</th>\n",
       "      <td>Argentina</td>\n",
       "      <td>45167000</td>\n",
       "      <td>1964375</td>\n",
       "    </tr>\n",
       "    <tr>\n",
       "      <th>3</th>\n",
       "      <td>Colombia</td>\n",
       "      <td>48922000</td>\n",
       "      <td>2780400</td>\n",
       "    </tr>\n",
       "    <tr>\n",
       "      <th>2</th>\n",
       "      <td>Espana</td>\n",
       "      <td>47099000</td>\n",
       "      <td>505944</td>\n",
       "    </tr>\n",
       "    <tr>\n",
       "      <th>0</th>\n",
       "      <td>Mexico</td>\n",
       "      <td>127212000</td>\n",
       "      <td>1142748</td>\n",
       "    </tr>\n",
       "  </tbody>\n",
       "</table>\n",
       "</div>"
      ],
      "text/plain": [
       "        Pais  Poblacion  Superficie\n",
       "1  Argentina   45167000     1964375\n",
       "3   Colombia   48922000     2780400\n",
       "2     Espana   47099000      505944\n",
       "0     Mexico  127212000     1142748"
      ]
     },
     "execution_count": 211,
     "metadata": {},
     "output_type": "execute_result"
    }
   ],
   "source": [
    "df[\"Superficie\"] = [1964375, 2780400, 505944, 1142748]\n",
    "df\n"
   ]
  },
  {
   "cell_type": "markdown",
   "metadata": {},
   "source": [
    "### Asigno mismo valor a todas las filas en una columna nueva"
   ]
  },
  {
   "cell_type": "code",
   "execution_count": 212,
   "metadata": {
    "ExecuteTime": {
     "end_time": "2019-11-01T15:44:14.562537Z",
     "start_time": "2019-11-01T15:44:14.552807Z"
    }
   },
   "outputs": [
    {
     "data": {
      "text/html": [
       "<div>\n",
       "<style scoped>\n",
       "    .dataframe tbody tr th:only-of-type {\n",
       "        vertical-align: middle;\n",
       "    }\n",
       "\n",
       "    .dataframe tbody tr th {\n",
       "        vertical-align: top;\n",
       "    }\n",
       "\n",
       "    .dataframe thead th {\n",
       "        text-align: right;\n",
       "    }\n",
       "</style>\n",
       "<table border=\"1\" class=\"dataframe\">\n",
       "  <thead>\n",
       "    <tr style=\"text-align: right;\">\n",
       "      <th></th>\n",
       "      <th>Pais</th>\n",
       "      <th>Poblacion</th>\n",
       "      <th>Superficie</th>\n",
       "      <th>Deporte</th>\n",
       "    </tr>\n",
       "  </thead>\n",
       "  <tbody>\n",
       "    <tr>\n",
       "      <th>1</th>\n",
       "      <td>Argentina</td>\n",
       "      <td>45167000</td>\n",
       "      <td>1964375</td>\n",
       "      <td>Futbol</td>\n",
       "    </tr>\n",
       "    <tr>\n",
       "      <th>3</th>\n",
       "      <td>Colombia</td>\n",
       "      <td>48922000</td>\n",
       "      <td>2780400</td>\n",
       "      <td>Futbol</td>\n",
       "    </tr>\n",
       "    <tr>\n",
       "      <th>2</th>\n",
       "      <td>Espana</td>\n",
       "      <td>47099000</td>\n",
       "      <td>505944</td>\n",
       "      <td>Futbol</td>\n",
       "    </tr>\n",
       "    <tr>\n",
       "      <th>0</th>\n",
       "      <td>Mexico</td>\n",
       "      <td>127212000</td>\n",
       "      <td>1142748</td>\n",
       "      <td>Futbol</td>\n",
       "    </tr>\n",
       "  </tbody>\n",
       "</table>\n",
       "</div>"
      ],
      "text/plain": [
       "        Pais  Poblacion  Superficie Deporte\n",
       "1  Argentina   45167000     1964375  Futbol\n",
       "3   Colombia   48922000     2780400  Futbol\n",
       "2     Espana   47099000      505944  Futbol\n",
       "0     Mexico  127212000     1142748  Futbol"
      ]
     },
     "execution_count": 212,
     "metadata": {},
     "output_type": "execute_result"
    }
   ],
   "source": [
    "df['Deporte'] = 'Futbol'\n",
    "df\n"
   ]
  },
  {
   "cell_type": "markdown",
   "metadata": {},
   "source": [
    "## Eliminar una columna"
   ]
  },
  {
   "cell_type": "code",
   "execution_count": 213,
   "metadata": {
    "ExecuteTime": {
     "end_time": "2019-11-01T15:44:14.578164Z",
     "start_time": "2019-11-01T15:44:14.566159Z"
    }
   },
   "outputs": [
    {
     "data": {
      "text/html": [
       "<div>\n",
       "<style scoped>\n",
       "    .dataframe tbody tr th:only-of-type {\n",
       "        vertical-align: middle;\n",
       "    }\n",
       "\n",
       "    .dataframe tbody tr th {\n",
       "        vertical-align: top;\n",
       "    }\n",
       "\n",
       "    .dataframe thead th {\n",
       "        text-align: right;\n",
       "    }\n",
       "</style>\n",
       "<table border=\"1\" class=\"dataframe\">\n",
       "  <thead>\n",
       "    <tr style=\"text-align: right;\">\n",
       "      <th></th>\n",
       "      <th>Pais</th>\n",
       "      <th>Poblacion</th>\n",
       "      <th>Superficie</th>\n",
       "    </tr>\n",
       "  </thead>\n",
       "  <tbody>\n",
       "    <tr>\n",
       "      <th>1</th>\n",
       "      <td>Argentina</td>\n",
       "      <td>45167000</td>\n",
       "      <td>1964375</td>\n",
       "    </tr>\n",
       "    <tr>\n",
       "      <th>3</th>\n",
       "      <td>Colombia</td>\n",
       "      <td>48922000</td>\n",
       "      <td>2780400</td>\n",
       "    </tr>\n",
       "    <tr>\n",
       "      <th>2</th>\n",
       "      <td>Espana</td>\n",
       "      <td>47099000</td>\n",
       "      <td>505944</td>\n",
       "    </tr>\n",
       "    <tr>\n",
       "      <th>0</th>\n",
       "      <td>Mexico</td>\n",
       "      <td>127212000</td>\n",
       "      <td>1142748</td>\n",
       "    </tr>\n",
       "  </tbody>\n",
       "</table>\n",
       "</div>"
      ],
      "text/plain": [
       "        Pais  Poblacion  Superficie\n",
       "1  Argentina   45167000     1964375\n",
       "3   Colombia   48922000     2780400\n",
       "2     Espana   47099000      505944\n",
       "0     Mexico  127212000     1142748"
      ]
     },
     "execution_count": 213,
     "metadata": {},
     "output_type": "execute_result"
    }
   ],
   "source": [
    "df = df.drop(['Deporte'], axis=1)\n",
    "df\n"
   ]
  },
  {
   "cell_type": "markdown",
   "metadata": {},
   "source": [
    "## Eliminar multiples columnas"
   ]
  },
  {
   "cell_type": "code",
   "execution_count": 214,
   "metadata": {
    "ExecuteTime": {
     "end_time": "2019-11-01T15:44:14.595086Z",
     "start_time": "2019-11-01T15:44:14.581744Z"
    },
    "scrolled": true
   },
   "outputs": [
    {
     "data": {
      "text/html": [
       "<div>\n",
       "<style scoped>\n",
       "    .dataframe tbody tr th:only-of-type {\n",
       "        vertical-align: middle;\n",
       "    }\n",
       "\n",
       "    .dataframe tbody tr th {\n",
       "        vertical-align: top;\n",
       "    }\n",
       "\n",
       "    .dataframe thead th {\n",
       "        text-align: right;\n",
       "    }\n",
       "</style>\n",
       "<table border=\"1\" class=\"dataframe\">\n",
       "  <thead>\n",
       "    <tr style=\"text-align: right;\">\n",
       "      <th></th>\n",
       "      <th>Poblacion</th>\n",
       "    </tr>\n",
       "  </thead>\n",
       "  <tbody>\n",
       "    <tr>\n",
       "      <th>1</th>\n",
       "      <td>45167000</td>\n",
       "    </tr>\n",
       "    <tr>\n",
       "      <th>3</th>\n",
       "      <td>48922000</td>\n",
       "    </tr>\n",
       "    <tr>\n",
       "      <th>2</th>\n",
       "      <td>47099000</td>\n",
       "    </tr>\n",
       "    <tr>\n",
       "      <th>0</th>\n",
       "      <td>127212000</td>\n",
       "    </tr>\n",
       "  </tbody>\n",
       "</table>\n",
       "</div>"
      ],
      "text/plain": [
       "   Poblacion\n",
       "1   45167000\n",
       "3   48922000\n",
       "2   47099000\n",
       "0  127212000"
      ]
     },
     "execution_count": 214,
     "metadata": {},
     "output_type": "execute_result"
    }
   ],
   "source": [
    "df.drop(['Superficie', 'Pais'], axis=1)\n"
   ]
  },
  {
   "cell_type": "code",
   "execution_count": 215,
   "metadata": {
    "ExecuteTime": {
     "end_time": "2019-11-01T15:44:14.612566Z",
     "start_time": "2019-11-01T15:44:14.598332Z"
    }
   },
   "outputs": [
    {
     "data": {
      "text/html": [
       "<div>\n",
       "<style scoped>\n",
       "    .dataframe tbody tr th:only-of-type {\n",
       "        vertical-align: middle;\n",
       "    }\n",
       "\n",
       "    .dataframe tbody tr th {\n",
       "        vertical-align: top;\n",
       "    }\n",
       "\n",
       "    .dataframe thead th {\n",
       "        text-align: right;\n",
       "    }\n",
       "</style>\n",
       "<table border=\"1\" class=\"dataframe\">\n",
       "  <thead>\n",
       "    <tr style=\"text-align: right;\">\n",
       "      <th></th>\n",
       "      <th>Pais</th>\n",
       "      <th>Poblacion</th>\n",
       "      <th>Superficie</th>\n",
       "    </tr>\n",
       "  </thead>\n",
       "  <tbody>\n",
       "    <tr>\n",
       "      <th>1</th>\n",
       "      <td>Argentina</td>\n",
       "      <td>45167000</td>\n",
       "      <td>1964375</td>\n",
       "    </tr>\n",
       "    <tr>\n",
       "      <th>3</th>\n",
       "      <td>Colombia</td>\n",
       "      <td>48922000</td>\n",
       "      <td>2780400</td>\n",
       "    </tr>\n",
       "    <tr>\n",
       "      <th>2</th>\n",
       "      <td>Espana</td>\n",
       "      <td>47099000</td>\n",
       "      <td>505944</td>\n",
       "    </tr>\n",
       "    <tr>\n",
       "      <th>0</th>\n",
       "      <td>Mexico</td>\n",
       "      <td>127212000</td>\n",
       "      <td>1142748</td>\n",
       "    </tr>\n",
       "  </tbody>\n",
       "</table>\n",
       "</div>"
      ],
      "text/plain": [
       "        Pais  Poblacion  Superficie\n",
       "1  Argentina   45167000     1964375\n",
       "3   Colombia   48922000     2780400\n",
       "2     Espana   47099000      505944\n",
       "0     Mexico  127212000     1142748"
      ]
     },
     "execution_count": 215,
     "metadata": {},
     "output_type": "execute_result"
    }
   ],
   "source": [
    "df # recuerda! como no lo asignamos, el df anterior sigue \"intacto\"\n"
   ]
  },
  {
   "cell_type": "markdown",
   "metadata": {},
   "source": [
    "## Agregar una fila nueva al final"
   ]
  },
  {
   "cell_type": "code",
   "execution_count": 216,
   "metadata": {
    "ExecuteTime": {
     "end_time": "2019-11-01T15:44:14.621927Z",
     "start_time": "2019-11-01T15:44:14.615114Z"
    }
   },
   "outputs": [
    {
     "data": {
      "text/plain": [
       "4"
      ]
     },
     "execution_count": 216,
     "metadata": {},
     "output_type": "execute_result"
    }
   ],
   "source": [
    "cantidad_filas = len(df) # obtengo la cantidad de filas\n",
    "cantidad_filas\n"
   ]
  },
  {
   "cell_type": "code",
   "execution_count": 217,
   "metadata": {
    "ExecuteTime": {
     "end_time": "2019-11-01T15:44:14.638448Z",
     "start_time": "2019-11-01T15:44:14.624353Z"
    }
   },
   "outputs": [
    {
     "data": {
      "text/html": [
       "<div>\n",
       "<style scoped>\n",
       "    .dataframe tbody tr th:only-of-type {\n",
       "        vertical-align: middle;\n",
       "    }\n",
       "\n",
       "    .dataframe tbody tr th {\n",
       "        vertical-align: top;\n",
       "    }\n",
       "\n",
       "    .dataframe thead th {\n",
       "        text-align: right;\n",
       "    }\n",
       "</style>\n",
       "<table border=\"1\" class=\"dataframe\">\n",
       "  <thead>\n",
       "    <tr style=\"text-align: right;\">\n",
       "      <th></th>\n",
       "      <th>Pais</th>\n",
       "      <th>Poblacion</th>\n",
       "      <th>Superficie</th>\n",
       "    </tr>\n",
       "  </thead>\n",
       "  <tbody>\n",
       "    <tr>\n",
       "      <th>1</th>\n",
       "      <td>Argentina</td>\n",
       "      <td>45167000</td>\n",
       "      <td>1964375</td>\n",
       "    </tr>\n",
       "    <tr>\n",
       "      <th>3</th>\n",
       "      <td>Colombia</td>\n",
       "      <td>48922000</td>\n",
       "      <td>2780400</td>\n",
       "    </tr>\n",
       "    <tr>\n",
       "      <th>2</th>\n",
       "      <td>Espana</td>\n",
       "      <td>47099000</td>\n",
       "      <td>505944</td>\n",
       "    </tr>\n",
       "    <tr>\n",
       "      <th>0</th>\n",
       "      <td>Mexico</td>\n",
       "      <td>127212000</td>\n",
       "      <td>1142748</td>\n",
       "    </tr>\n",
       "    <tr>\n",
       "      <th>4</th>\n",
       "      <td>Benezuela</td>\n",
       "      <td>0</td>\n",
       "      <td>916445</td>\n",
       "    </tr>\n",
       "  </tbody>\n",
       "</table>\n",
       "</div>"
      ],
      "text/plain": [
       "        Pais  Poblacion  Superficie\n",
       "1  Argentina   45167000     1964375\n",
       "3   Colombia   48922000     2780400\n",
       "2     Espana   47099000      505944\n",
       "0     Mexico  127212000     1142748\n",
       "4  Benezuela          0      916445"
      ]
     },
     "execution_count": 217,
     "metadata": {},
     "output_type": "execute_result"
    }
   ],
   "source": [
    "df.loc[cantidad_filas] = [\"Benezuela\", 0, 916445] # Está mal escrito el pais! (lo sé)\n",
    "df\n"
   ]
  },
  {
   "cell_type": "markdown",
   "metadata": {},
   "source": [
    "### Actualizo la fila entera"
   ]
  },
  {
   "cell_type": "code",
   "execution_count": 218,
   "metadata": {
    "ExecuteTime": {
     "end_time": "2019-11-01T15:44:14.654066Z",
     "start_time": "2019-11-01T15:44:14.640609Z"
    }
   },
   "outputs": [
    {
     "data": {
      "text/html": [
       "<div>\n",
       "<style scoped>\n",
       "    .dataframe tbody tr th:only-of-type {\n",
       "        vertical-align: middle;\n",
       "    }\n",
       "\n",
       "    .dataframe tbody tr th {\n",
       "        vertical-align: top;\n",
       "    }\n",
       "\n",
       "    .dataframe thead th {\n",
       "        text-align: right;\n",
       "    }\n",
       "</style>\n",
       "<table border=\"1\" class=\"dataframe\">\n",
       "  <thead>\n",
       "    <tr style=\"text-align: right;\">\n",
       "      <th></th>\n",
       "      <th>Pais</th>\n",
       "      <th>Poblacion</th>\n",
       "      <th>Superficie</th>\n",
       "    </tr>\n",
       "  </thead>\n",
       "  <tbody>\n",
       "    <tr>\n",
       "      <th>1</th>\n",
       "      <td>Argentina</td>\n",
       "      <td>45167000</td>\n",
       "      <td>1964375</td>\n",
       "    </tr>\n",
       "    <tr>\n",
       "      <th>3</th>\n",
       "      <td>Colombia</td>\n",
       "      <td>48922000</td>\n",
       "      <td>2780400</td>\n",
       "    </tr>\n",
       "    <tr>\n",
       "      <th>2</th>\n",
       "      <td>Espana</td>\n",
       "      <td>47099000</td>\n",
       "      <td>505944</td>\n",
       "    </tr>\n",
       "    <tr>\n",
       "      <th>0</th>\n",
       "      <td>Mexico</td>\n",
       "      <td>127212000</td>\n",
       "      <td>1142748</td>\n",
       "    </tr>\n",
       "    <tr>\n",
       "      <th>4</th>\n",
       "      <td>Venezuela</td>\n",
       "      <td>0</td>\n",
       "      <td>916445</td>\n",
       "    </tr>\n",
       "  </tbody>\n",
       "</table>\n",
       "</div>"
      ],
      "text/plain": [
       "        Pais  Poblacion  Superficie\n",
       "1  Argentina   45167000     1964375\n",
       "3   Colombia   48922000     2780400\n",
       "2     Espana   47099000      505944\n",
       "0     Mexico  127212000     1142748\n",
       "4  Venezuela          0      916445"
      ]
     },
     "execution_count": 218,
     "metadata": {},
     "output_type": "execute_result"
    }
   ],
   "source": [
    "df.loc[4] = [\"Venezuela\", 0, 916445]\n",
    "df\n"
   ]
  },
  {
   "cell_type": "markdown",
   "metadata": {},
   "source": [
    "### Actualizo una celda"
   ]
  },
  {
   "cell_type": "code",
   "execution_count": 219,
   "metadata": {
    "ExecuteTime": {
     "end_time": "2019-11-01T15:44:14.669129Z",
     "start_time": "2019-11-01T15:44:14.656468Z"
    }
   },
   "outputs": [
    {
     "data": {
      "text/html": [
       "<div>\n",
       "<style scoped>\n",
       "    .dataframe tbody tr th:only-of-type {\n",
       "        vertical-align: middle;\n",
       "    }\n",
       "\n",
       "    .dataframe tbody tr th {\n",
       "        vertical-align: top;\n",
       "    }\n",
       "\n",
       "    .dataframe thead th {\n",
       "        text-align: right;\n",
       "    }\n",
       "</style>\n",
       "<table border=\"1\" class=\"dataframe\">\n",
       "  <thead>\n",
       "    <tr style=\"text-align: right;\">\n",
       "      <th></th>\n",
       "      <th>Pais</th>\n",
       "      <th>Poblacion</th>\n",
       "      <th>Superficie</th>\n",
       "    </tr>\n",
       "  </thead>\n",
       "  <tbody>\n",
       "    <tr>\n",
       "      <th>1</th>\n",
       "      <td>Argentina</td>\n",
       "      <td>45167000</td>\n",
       "      <td>1964375</td>\n",
       "    </tr>\n",
       "    <tr>\n",
       "      <th>3</th>\n",
       "      <td>Colombia</td>\n",
       "      <td>48922000</td>\n",
       "      <td>2780400</td>\n",
       "    </tr>\n",
       "    <tr>\n",
       "      <th>2</th>\n",
       "      <td>Espana</td>\n",
       "      <td>47099000</td>\n",
       "      <td>505944</td>\n",
       "    </tr>\n",
       "    <tr>\n",
       "      <th>0</th>\n",
       "      <td>Mexico</td>\n",
       "      <td>127212000</td>\n",
       "      <td>1142748</td>\n",
       "    </tr>\n",
       "    <tr>\n",
       "      <th>4</th>\n",
       "      <td>Venezuela</td>\n",
       "      <td>32423000</td>\n",
       "      <td>916445</td>\n",
       "    </tr>\n",
       "  </tbody>\n",
       "</table>\n",
       "</div>"
      ],
      "text/plain": [
       "        Pais  Poblacion  Superficie\n",
       "1  Argentina   45167000     1964375\n",
       "3   Colombia   48922000     2780400\n",
       "2     Espana   47099000      505944\n",
       "0     Mexico  127212000     1142748\n",
       "4  Venezuela   32423000      916445"
      ]
     },
     "execution_count": 219,
     "metadata": {},
     "output_type": "execute_result"
    }
   ],
   "source": [
    "df.at[4,'Poblacion'] = 32423000\n",
    "df\n"
   ]
  },
  {
   "cell_type": "markdown",
   "metadata": {},
   "source": [
    "## Eliminar una fila"
   ]
  },
  {
   "cell_type": "code",
   "execution_count": 220,
   "metadata": {
    "ExecuteTime": {
     "end_time": "2019-11-01T15:44:14.687725Z",
     "start_time": "2019-11-01T15:44:14.673498Z"
    }
   },
   "outputs": [
    {
     "data": {
      "text/html": [
       "<div>\n",
       "<style scoped>\n",
       "    .dataframe tbody tr th:only-of-type {\n",
       "        vertical-align: middle;\n",
       "    }\n",
       "\n",
       "    .dataframe tbody tr th {\n",
       "        vertical-align: top;\n",
       "    }\n",
       "\n",
       "    .dataframe thead th {\n",
       "        text-align: right;\n",
       "    }\n",
       "</style>\n",
       "<table border=\"1\" class=\"dataframe\">\n",
       "  <thead>\n",
       "    <tr style=\"text-align: right;\">\n",
       "      <th></th>\n",
       "      <th>Pais</th>\n",
       "      <th>Poblacion</th>\n",
       "      <th>Superficie</th>\n",
       "    </tr>\n",
       "  </thead>\n",
       "  <tbody>\n",
       "    <tr>\n",
       "      <th>1</th>\n",
       "      <td>Argentina</td>\n",
       "      <td>45167000</td>\n",
       "      <td>1964375</td>\n",
       "    </tr>\n",
       "    <tr>\n",
       "      <th>2</th>\n",
       "      <td>Espana</td>\n",
       "      <td>47099000</td>\n",
       "      <td>505944</td>\n",
       "    </tr>\n",
       "    <tr>\n",
       "      <th>0</th>\n",
       "      <td>Mexico</td>\n",
       "      <td>127212000</td>\n",
       "      <td>1142748</td>\n",
       "    </tr>\n",
       "    <tr>\n",
       "      <th>4</th>\n",
       "      <td>Venezuela</td>\n",
       "      <td>32423000</td>\n",
       "      <td>916445</td>\n",
       "    </tr>\n",
       "  </tbody>\n",
       "</table>\n",
       "</div>"
      ],
      "text/plain": [
       "        Pais  Poblacion  Superficie\n",
       "1  Argentina   45167000     1964375\n",
       "2     Espana   47099000      505944\n",
       "0     Mexico  127212000     1142748\n",
       "4  Venezuela   32423000      916445"
      ]
     },
     "execution_count": 220,
     "metadata": {},
     "output_type": "execute_result"
    }
   ],
   "source": [
    "df.drop([3])\n"
   ]
  },
  {
   "cell_type": "markdown",
   "metadata": {},
   "source": [
    "## Eliminar multiples filas"
   ]
  },
  {
   "cell_type": "code",
   "execution_count": 221,
   "metadata": {
    "ExecuteTime": {
     "end_time": "2019-11-01T15:44:14.704514Z",
     "start_time": "2019-11-01T15:44:14.690302Z"
    }
   },
   "outputs": [
    {
     "data": {
      "text/html": [
       "<div>\n",
       "<style scoped>\n",
       "    .dataframe tbody tr th:only-of-type {\n",
       "        vertical-align: middle;\n",
       "    }\n",
       "\n",
       "    .dataframe tbody tr th {\n",
       "        vertical-align: top;\n",
       "    }\n",
       "\n",
       "    .dataframe thead th {\n",
       "        text-align: right;\n",
       "    }\n",
       "</style>\n",
       "<table border=\"1\" class=\"dataframe\">\n",
       "  <thead>\n",
       "    <tr style=\"text-align: right;\">\n",
       "      <th></th>\n",
       "      <th>Pais</th>\n",
       "      <th>Poblacion</th>\n",
       "      <th>Superficie</th>\n",
       "    </tr>\n",
       "  </thead>\n",
       "  <tbody>\n",
       "    <tr>\n",
       "      <th>2</th>\n",
       "      <td>Espana</td>\n",
       "      <td>47099000</td>\n",
       "      <td>505944</td>\n",
       "    </tr>\n",
       "    <tr>\n",
       "      <th>0</th>\n",
       "      <td>Mexico</td>\n",
       "      <td>127212000</td>\n",
       "      <td>1142748</td>\n",
       "    </tr>\n",
       "    <tr>\n",
       "      <th>4</th>\n",
       "      <td>Venezuela</td>\n",
       "      <td>32423000</td>\n",
       "      <td>916445</td>\n",
       "    </tr>\n",
       "  </tbody>\n",
       "</table>\n",
       "</div>"
      ],
      "text/plain": [
       "        Pais  Poblacion  Superficie\n",
       "2     Espana   47099000      505944\n",
       "0     Mexico  127212000     1142748\n",
       "4  Venezuela   32423000      916445"
      ]
     },
     "execution_count": 221,
     "metadata": {},
     "output_type": "execute_result"
    }
   ],
   "source": [
    "df.drop([3,1])\n"
   ]
  },
  {
   "cell_type": "markdown",
   "metadata": {},
   "source": [
    "# Filtrar"
   ]
  },
  {
   "cell_type": "markdown",
   "metadata": {},
   "source": [
    "## Paises con mas de 46 millones de habitantes"
   ]
  },
  {
   "cell_type": "code",
   "execution_count": 222,
   "metadata": {
    "ExecuteTime": {
     "end_time": "2019-11-01T15:44:14.718480Z",
     "start_time": "2019-11-01T15:44:14.706795Z"
    }
   },
   "outputs": [
    {
     "data": {
      "text/html": [
       "<div>\n",
       "<style scoped>\n",
       "    .dataframe tbody tr th:only-of-type {\n",
       "        vertical-align: middle;\n",
       "    }\n",
       "\n",
       "    .dataframe tbody tr th {\n",
       "        vertical-align: top;\n",
       "    }\n",
       "\n",
       "    .dataframe thead th {\n",
       "        text-align: right;\n",
       "    }\n",
       "</style>\n",
       "<table border=\"1\" class=\"dataframe\">\n",
       "  <thead>\n",
       "    <tr style=\"text-align: right;\">\n",
       "      <th></th>\n",
       "      <th>Pais</th>\n",
       "      <th>Poblacion</th>\n",
       "      <th>Superficie</th>\n",
       "    </tr>\n",
       "  </thead>\n",
       "  <tbody>\n",
       "    <tr>\n",
       "      <th>3</th>\n",
       "      <td>Colombia</td>\n",
       "      <td>48922000</td>\n",
       "      <td>2780400</td>\n",
       "    </tr>\n",
       "    <tr>\n",
       "      <th>2</th>\n",
       "      <td>Espana</td>\n",
       "      <td>47099000</td>\n",
       "      <td>505944</td>\n",
       "    </tr>\n",
       "    <tr>\n",
       "      <th>0</th>\n",
       "      <td>Mexico</td>\n",
       "      <td>127212000</td>\n",
       "      <td>1142748</td>\n",
       "    </tr>\n",
       "  </tbody>\n",
       "</table>\n",
       "</div>"
      ],
      "text/plain": [
       "       Pais  Poblacion  Superficie\n",
       "3  Colombia   48922000     2780400\n",
       "2    Espana   47099000      505944\n",
       "0    Mexico  127212000     1142748"
      ]
     },
     "execution_count": 222,
     "metadata": {},
     "output_type": "execute_result"
    }
   ],
   "source": [
    "mas_de_46 = df[(df['Poblacion'] > 46000000)]\n",
    "mas_de_46\n"
   ]
  },
  {
   "cell_type": "markdown",
   "metadata": {},
   "source": [
    "## Más de 46 mill y superficie menor a 600.000 Km2"
   ]
  },
  {
   "cell_type": "code",
   "execution_count": 223,
   "metadata": {
    "ExecuteTime": {
     "end_time": "2019-11-01T15:44:14.733229Z",
     "start_time": "2019-11-01T15:44:14.721385Z"
    }
   },
   "outputs": [
    {
     "data": {
      "text/html": [
       "<div>\n",
       "<style scoped>\n",
       "    .dataframe tbody tr th:only-of-type {\n",
       "        vertical-align: middle;\n",
       "    }\n",
       "\n",
       "    .dataframe tbody tr th {\n",
       "        vertical-align: top;\n",
       "    }\n",
       "\n",
       "    .dataframe thead th {\n",
       "        text-align: right;\n",
       "    }\n",
       "</style>\n",
       "<table border=\"1\" class=\"dataframe\">\n",
       "  <thead>\n",
       "    <tr style=\"text-align: right;\">\n",
       "      <th></th>\n",
       "      <th>Pais</th>\n",
       "      <th>Poblacion</th>\n",
       "      <th>Superficie</th>\n",
       "    </tr>\n",
       "  </thead>\n",
       "  <tbody>\n",
       "    <tr>\n",
       "      <th>2</th>\n",
       "      <td>Espana</td>\n",
       "      <td>47099000</td>\n",
       "      <td>505944</td>\n",
       "    </tr>\n",
       "  </tbody>\n",
       "</table>\n",
       "</div>"
      ],
      "text/plain": [
       "     Pais  Poblacion  Superficie\n",
       "2  Espana   47099000      505944"
      ]
     },
     "execution_count": 223,
     "metadata": {},
     "output_type": "execute_result"
    }
   ],
   "source": [
    "doble_filtro = df[(df['Poblacion'] > 46000000) & (df['Superficie'] < 600000)]\n",
    "doble_filtro\n"
   ]
  },
  {
   "cell_type": "markdown",
   "metadata": {},
   "source": [
    "## Busco por un valor específico"
   ]
  },
  {
   "cell_type": "code",
   "execution_count": 224,
   "metadata": {
    "ExecuteTime": {
     "end_time": "2019-11-01T15:44:14.750037Z",
     "start_time": "2019-11-01T15:44:14.735910Z"
    }
   },
   "outputs": [
    {
     "data": {
      "text/html": [
       "<div>\n",
       "<style scoped>\n",
       "    .dataframe tbody tr th:only-of-type {\n",
       "        vertical-align: middle;\n",
       "    }\n",
       "\n",
       "    .dataframe tbody tr th {\n",
       "        vertical-align: top;\n",
       "    }\n",
       "\n",
       "    .dataframe thead th {\n",
       "        text-align: right;\n",
       "    }\n",
       "</style>\n",
       "<table border=\"1\" class=\"dataframe\">\n",
       "  <thead>\n",
       "    <tr style=\"text-align: right;\">\n",
       "      <th></th>\n",
       "      <th>Pais</th>\n",
       "      <th>Poblacion</th>\n",
       "      <th>Superficie</th>\n",
       "    </tr>\n",
       "  </thead>\n",
       "  <tbody>\n",
       "    <tr>\n",
       "      <th>3</th>\n",
       "      <td>Colombia</td>\n",
       "      <td>48922000</td>\n",
       "      <td>2780400</td>\n",
       "    </tr>\n",
       "  </tbody>\n",
       "</table>\n",
       "</div>"
      ],
      "text/plain": [
       "       Pais  Poblacion  Superficie\n",
       "3  Colombia   48922000     2780400"
      ]
     },
     "execution_count": 224,
     "metadata": {},
     "output_type": "execute_result"
    }
   ],
   "source": [
    "por_nombre = df[(df['Pais'] == 'Colombia')]\n",
    "por_nombre\n"
   ]
  },
  {
   "cell_type": "markdown",
   "metadata": {},
   "source": [
    "## Paises con nombre mayor a 6 letras"
   ]
  },
  {
   "cell_type": "code",
   "execution_count": 225,
   "metadata": {
    "ExecuteTime": {
     "end_time": "2019-11-01T15:44:14.768810Z",
     "start_time": "2019-11-01T15:44:14.752716Z"
    }
   },
   "outputs": [
    {
     "data": {
      "text/html": [
       "<div>\n",
       "<style scoped>\n",
       "    .dataframe tbody tr th:only-of-type {\n",
       "        vertical-align: middle;\n",
       "    }\n",
       "\n",
       "    .dataframe tbody tr th {\n",
       "        vertical-align: top;\n",
       "    }\n",
       "\n",
       "    .dataframe thead th {\n",
       "        text-align: right;\n",
       "    }\n",
       "</style>\n",
       "<table border=\"1\" class=\"dataframe\">\n",
       "  <thead>\n",
       "    <tr style=\"text-align: right;\">\n",
       "      <th></th>\n",
       "      <th>Pais</th>\n",
       "      <th>Poblacion</th>\n",
       "      <th>Superficie</th>\n",
       "    </tr>\n",
       "  </thead>\n",
       "  <tbody>\n",
       "    <tr>\n",
       "      <th>1</th>\n",
       "      <td>Argentina</td>\n",
       "      <td>45167000</td>\n",
       "      <td>1964375</td>\n",
       "    </tr>\n",
       "    <tr>\n",
       "      <th>3</th>\n",
       "      <td>Colombia</td>\n",
       "      <td>48922000</td>\n",
       "      <td>2780400</td>\n",
       "    </tr>\n",
       "    <tr>\n",
       "      <th>4</th>\n",
       "      <td>Venezuela</td>\n",
       "      <td>32423000</td>\n",
       "      <td>916445</td>\n",
       "    </tr>\n",
       "  </tbody>\n",
       "</table>\n",
       "</div>"
      ],
      "text/plain": [
       "        Pais  Poblacion  Superficie\n",
       "1  Argentina   45167000     1964375\n",
       "3   Colombia   48922000     2780400\n",
       "4  Venezuela   32423000      916445"
      ]
     },
     "execution_count": 225,
     "metadata": {},
     "output_type": "execute_result"
    }
   ],
   "source": [
    "nombre_largo = df[(df['Pais'].str.len() > 6)]\n",
    "nombre_largo\n"
   ]
  },
  {
   "cell_type": "markdown",
   "metadata": {},
   "source": [
    "### Filtrar por True/False"
   ]
  },
  {
   "cell_type": "code",
   "execution_count": 226,
   "metadata": {
    "ExecuteTime": {
     "end_time": "2019-11-01T15:44:14.783588Z",
     "start_time": "2019-11-01T15:44:14.771849Z"
    }
   },
   "outputs": [
    {
     "data": {
      "text/html": [
       "<div>\n",
       "<style scoped>\n",
       "    .dataframe tbody tr th:only-of-type {\n",
       "        vertical-align: middle;\n",
       "    }\n",
       "\n",
       "    .dataframe tbody tr th {\n",
       "        vertical-align: top;\n",
       "    }\n",
       "\n",
       "    .dataframe thead th {\n",
       "        text-align: right;\n",
       "    }\n",
       "</style>\n",
       "<table border=\"1\" class=\"dataframe\">\n",
       "  <thead>\n",
       "    <tr style=\"text-align: right;\">\n",
       "      <th></th>\n",
       "      <th>Pais</th>\n",
       "      <th>Poblacion</th>\n",
       "      <th>Superficie</th>\n",
       "    </tr>\n",
       "  </thead>\n",
       "  <tbody>\n",
       "    <tr>\n",
       "      <th>1</th>\n",
       "      <td>Argentina</td>\n",
       "      <td>45167000</td>\n",
       "      <td>1964375</td>\n",
       "    </tr>\n",
       "    <tr>\n",
       "      <th>4</th>\n",
       "      <td>Venezuela</td>\n",
       "      <td>32423000</td>\n",
       "      <td>916445</td>\n",
       "    </tr>\n",
       "  </tbody>\n",
       "</table>\n",
       "</div>"
      ],
      "text/plain": [
       "        Pais  Poblacion  Superficie\n",
       "1  Argentina   45167000     1964375\n",
       "4  Venezuela   32423000      916445"
      ]
     },
     "execution_count": 226,
     "metadata": {},
     "output_type": "execute_result"
    }
   ],
   "source": [
    "arreglo = [True, False, False, False, True] # Esto es lo que realmente hacemos en los casos anteriores!\n",
    "df[arreglo]\n"
   ]
  },
  {
   "cell_type": "markdown",
   "metadata": {},
   "source": [
    "## Obtener el indice de una fila"
   ]
  },
  {
   "cell_type": "code",
   "execution_count": 227,
   "metadata": {
    "ExecuteTime": {
     "end_time": "2019-11-01T16:06:11.395330Z",
     "start_time": "2019-11-01T16:06:11.388462Z"
    }
   },
   "outputs": [
    {
     "data": {
      "text/plain": [
       "3"
      ]
     },
     "execution_count": 227,
     "metadata": {},
     "output_type": "execute_result"
    }
   ],
   "source": [
    "por_nombre = df[(df['Pais'] == 'Colombia')]\n",
    "por_nombre.index.tolist()[0]\n"
   ]
  },
  {
   "cell_type": "markdown",
   "metadata": {},
   "source": [
    "# Aplicar operaciones entre columnas"
   ]
  },
  {
   "cell_type": "code",
   "execution_count": 228,
   "metadata": {
    "ExecuteTime": {
     "end_time": "2019-11-01T15:44:14.802908Z",
     "start_time": "2019-11-01T15:44:14.786471Z"
    }
   },
   "outputs": [
    {
     "data": {
      "text/html": [
       "<div>\n",
       "<style scoped>\n",
       "    .dataframe tbody tr th:only-of-type {\n",
       "        vertical-align: middle;\n",
       "    }\n",
       "\n",
       "    .dataframe tbody tr th {\n",
       "        vertical-align: top;\n",
       "    }\n",
       "\n",
       "    .dataframe thead th {\n",
       "        text-align: right;\n",
       "    }\n",
       "</style>\n",
       "<table border=\"1\" class=\"dataframe\">\n",
       "  <thead>\n",
       "    <tr style=\"text-align: right;\">\n",
       "      <th></th>\n",
       "      <th>Pais</th>\n",
       "      <th>Poblacion</th>\n",
       "      <th>Superficie</th>\n",
       "      <th>Habit_x_km2</th>\n",
       "    </tr>\n",
       "  </thead>\n",
       "  <tbody>\n",
       "    <tr>\n",
       "      <th>3</th>\n",
       "      <td>Colombia</td>\n",
       "      <td>48922000</td>\n",
       "      <td>2780400</td>\n",
       "      <td>17</td>\n",
       "    </tr>\n",
       "    <tr>\n",
       "      <th>1</th>\n",
       "      <td>Argentina</td>\n",
       "      <td>45167000</td>\n",
       "      <td>1964375</td>\n",
       "      <td>22</td>\n",
       "    </tr>\n",
       "    <tr>\n",
       "      <th>4</th>\n",
       "      <td>Venezuela</td>\n",
       "      <td>32423000</td>\n",
       "      <td>916445</td>\n",
       "      <td>35</td>\n",
       "    </tr>\n",
       "    <tr>\n",
       "      <th>2</th>\n",
       "      <td>Espana</td>\n",
       "      <td>47099000</td>\n",
       "      <td>505944</td>\n",
       "      <td>93</td>\n",
       "    </tr>\n",
       "    <tr>\n",
       "      <th>0</th>\n",
       "      <td>Mexico</td>\n",
       "      <td>127212000</td>\n",
       "      <td>1142748</td>\n",
       "      <td>111</td>\n",
       "    </tr>\n",
       "  </tbody>\n",
       "</table>\n",
       "</div>"
      ],
      "text/plain": [
       "        Pais  Poblacion  Superficie  Habit_x_km2\n",
       "3   Colombia   48922000     2780400           17\n",
       "1  Argentina   45167000     1964375           22\n",
       "4  Venezuela   32423000      916445           35\n",
       "2     Espana   47099000      505944           93\n",
       "0     Mexico  127212000     1142748          111"
      ]
     },
     "execution_count": 228,
     "metadata": {},
     "output_type": "execute_result"
    }
   ],
   "source": [
    "# agregamos en una nueva columna el ratio de habitantes por superficie\n",
    "df['Habit_x_km2'] = (df['Poblacion'] / df['Superficie']).astype(int)\n",
    "df.sort_values(['Habit_x_km2'])\n"
   ]
  },
  {
   "cell_type": "markdown",
   "metadata": {},
   "source": [
    "## Aplicar una operacion definida"
   ]
  },
  {
   "cell_type": "code",
   "execution_count": 229,
   "metadata": {
    "ExecuteTime": {
     "end_time": "2019-11-01T15:44:14.813306Z",
     "start_time": "2019-11-01T15:44:14.808267Z"
    }
   },
   "outputs": [],
   "source": [
    "def crear_codigo(name):\n",
    "    name = name.upper() # paso a mayusculas\n",
    "    name = name[0:4]    # primeros 4 char\n",
    "    return name\n",
    "\n"
   ]
  },
  {
   "cell_type": "markdown",
   "metadata": {},
   "source": [
    "### aplicamos usando 1 columna"
   ]
  },
  {
   "cell_type": "code",
   "execution_count": 230,
   "metadata": {
    "ExecuteTime": {
     "end_time": "2019-11-01T15:44:14.836817Z",
     "start_time": "2019-11-01T15:44:14.819827Z"
    }
   },
   "outputs": [
    {
     "data": {
      "text/html": [
       "<div>\n",
       "<style scoped>\n",
       "    .dataframe tbody tr th:only-of-type {\n",
       "        vertical-align: middle;\n",
       "    }\n",
       "\n",
       "    .dataframe tbody tr th {\n",
       "        vertical-align: top;\n",
       "    }\n",
       "\n",
       "    .dataframe thead th {\n",
       "        text-align: right;\n",
       "    }\n",
       "</style>\n",
       "<table border=\"1\" class=\"dataframe\">\n",
       "  <thead>\n",
       "    <tr style=\"text-align: right;\">\n",
       "      <th></th>\n",
       "      <th>Pais</th>\n",
       "      <th>Poblacion</th>\n",
       "      <th>Superficie</th>\n",
       "      <th>Habit_x_km2</th>\n",
       "      <th>Codigo</th>\n",
       "    </tr>\n",
       "  </thead>\n",
       "  <tbody>\n",
       "    <tr>\n",
       "      <th>1</th>\n",
       "      <td>Argentina</td>\n",
       "      <td>45167000</td>\n",
       "      <td>1964375</td>\n",
       "      <td>22</td>\n",
       "      <td>ARGE</td>\n",
       "    </tr>\n",
       "    <tr>\n",
       "      <th>3</th>\n",
       "      <td>Colombia</td>\n",
       "      <td>48922000</td>\n",
       "      <td>2780400</td>\n",
       "      <td>17</td>\n",
       "      <td>COLO</td>\n",
       "    </tr>\n",
       "    <tr>\n",
       "      <th>2</th>\n",
       "      <td>Espana</td>\n",
       "      <td>47099000</td>\n",
       "      <td>505944</td>\n",
       "      <td>93</td>\n",
       "      <td>ESPA</td>\n",
       "    </tr>\n",
       "    <tr>\n",
       "      <th>0</th>\n",
       "      <td>Mexico</td>\n",
       "      <td>127212000</td>\n",
       "      <td>1142748</td>\n",
       "      <td>111</td>\n",
       "      <td>MEXI</td>\n",
       "    </tr>\n",
       "    <tr>\n",
       "      <th>4</th>\n",
       "      <td>Venezuela</td>\n",
       "      <td>32423000</td>\n",
       "      <td>916445</td>\n",
       "      <td>35</td>\n",
       "      <td>VENE</td>\n",
       "    </tr>\n",
       "  </tbody>\n",
       "</table>\n",
       "</div>"
      ],
      "text/plain": [
       "        Pais  Poblacion  Superficie  Habit_x_km2 Codigo\n",
       "1  Argentina   45167000     1964375           22   ARGE\n",
       "3   Colombia   48922000     2780400           17   COLO\n",
       "2     Espana   47099000      505944           93   ESPA\n",
       "0     Mexico  127212000     1142748          111   MEXI\n",
       "4  Venezuela   32423000      916445           35   VENE"
      ]
     },
     "execution_count": 230,
     "metadata": {},
     "output_type": "execute_result"
    }
   ],
   "source": [
    "df['Codigo'] = df['Pais'].apply(crear_codigo)\n",
    "df\n"
   ]
  },
  {
   "cell_type": "markdown",
   "metadata": {},
   "source": [
    "### Aplicamos una función enviando cada fila (todas las columnas)"
   ]
  },
  {
   "cell_type": "code",
   "execution_count": 231,
   "metadata": {
    "ExecuteTime": {
     "end_time": "2019-11-01T15:44:14.865479Z",
     "start_time": "2019-11-01T15:44:14.839881Z"
    }
   },
   "outputs": [
    {
     "data": {
      "text/html": [
       "<div>\n",
       "<style scoped>\n",
       "    .dataframe tbody tr th:only-of-type {\n",
       "        vertical-align: middle;\n",
       "    }\n",
       "\n",
       "    .dataframe tbody tr th {\n",
       "        vertical-align: top;\n",
       "    }\n",
       "\n",
       "    .dataframe thead th {\n",
       "        text-align: right;\n",
       "    }\n",
       "</style>\n",
       "<table border=\"1\" class=\"dataframe\">\n",
       "  <thead>\n",
       "    <tr style=\"text-align: right;\">\n",
       "      <th></th>\n",
       "      <th>Pais</th>\n",
       "      <th>Poblacion</th>\n",
       "      <th>Superficie</th>\n",
       "      <th>Habit_x_km2</th>\n",
       "      <th>Codigo</th>\n",
       "      <th>Categoria</th>\n",
       "    </tr>\n",
       "  </thead>\n",
       "  <tbody>\n",
       "    <tr>\n",
       "      <th>1</th>\n",
       "      <td>Argentina</td>\n",
       "      <td>45167000</td>\n",
       "      <td>1964375</td>\n",
       "      <td>22</td>\n",
       "      <td>ARGE</td>\n",
       "      <td>C</td>\n",
       "    </tr>\n",
       "    <tr>\n",
       "      <th>3</th>\n",
       "      <td>Colombia</td>\n",
       "      <td>48922000</td>\n",
       "      <td>2780400</td>\n",
       "      <td>17</td>\n",
       "      <td>COLO</td>\n",
       "      <td>A</td>\n",
       "    </tr>\n",
       "    <tr>\n",
       "      <th>2</th>\n",
       "      <td>Espana</td>\n",
       "      <td>47099000</td>\n",
       "      <td>505944</td>\n",
       "      <td>93</td>\n",
       "      <td>ESPA</td>\n",
       "      <td>B</td>\n",
       "    </tr>\n",
       "    <tr>\n",
       "      <th>0</th>\n",
       "      <td>Mexico</td>\n",
       "      <td>127212000</td>\n",
       "      <td>1142748</td>\n",
       "      <td>111</td>\n",
       "      <td>MEXI</td>\n",
       "      <td>B</td>\n",
       "    </tr>\n",
       "    <tr>\n",
       "      <th>4</th>\n",
       "      <td>Venezuela</td>\n",
       "      <td>32423000</td>\n",
       "      <td>916445</td>\n",
       "      <td>35</td>\n",
       "      <td>VENE</td>\n",
       "      <td>C</td>\n",
       "    </tr>\n",
       "  </tbody>\n",
       "</table>\n",
       "</div>"
      ],
      "text/plain": [
       "        Pais  Poblacion  Superficie  Habit_x_km2 Codigo Categoria\n",
       "1  Argentina   45167000     1964375           22   ARGE         C\n",
       "3   Colombia   48922000     2780400           17   COLO         A\n",
       "2     Espana   47099000      505944           93   ESPA         B\n",
       "0     Mexico  127212000     1142748          111   MEXI         B\n",
       "4  Venezuela   32423000      916445           35   VENE         C"
      ]
     },
     "execution_count": 231,
     "metadata": {},
     "output_type": "execute_result"
    }
   ],
   "source": [
    "def categoria(fila):\n",
    "    pob = fila['Poblacion']\n",
    "    habit = fila['Habit_x_km2']\n",
    "    if pob > 46000000:\n",
    "        if habit < 50:\n",
    "            return 'A'\n",
    "        else:\n",
    "            return 'B'        \n",
    "    return 'C'\n",
    "\n",
    "df['Categoria'] = df.apply(categoria, axis=1)\n",
    "df\n"
   ]
  },
  {
   "cell_type": "markdown",
   "metadata": {},
   "source": [
    "### Aplicar enviando algunas columnas como parámetros"
   ]
  },
  {
   "cell_type": "code",
   "execution_count": 232,
   "metadata": {
    "ExecuteTime": {
     "end_time": "2019-11-01T15:44:14.893419Z",
     "start_time": "2019-11-01T15:44:14.867583Z"
    }
   },
   "outputs": [
    {
     "data": {
      "text/html": [
       "<div>\n",
       "<style scoped>\n",
       "    .dataframe tbody tr th:only-of-type {\n",
       "        vertical-align: middle;\n",
       "    }\n",
       "\n",
       "    .dataframe tbody tr th {\n",
       "        vertical-align: top;\n",
       "    }\n",
       "\n",
       "    .dataframe thead th {\n",
       "        text-align: right;\n",
       "    }\n",
       "</style>\n",
       "<table border=\"1\" class=\"dataframe\">\n",
       "  <thead>\n",
       "    <tr style=\"text-align: right;\">\n",
       "      <th></th>\n",
       "      <th>Pais</th>\n",
       "      <th>Poblacion</th>\n",
       "      <th>Superficie</th>\n",
       "      <th>Habit_x_km2</th>\n",
       "      <th>Codigo</th>\n",
       "      <th>Categoria</th>\n",
       "      <th>color</th>\n",
       "    </tr>\n",
       "  </thead>\n",
       "  <tbody>\n",
       "    <tr>\n",
       "      <th>1</th>\n",
       "      <td>Argentina</td>\n",
       "      <td>45167000</td>\n",
       "      <td>1964375</td>\n",
       "      <td>22</td>\n",
       "      <td>ARGE</td>\n",
       "      <td>C</td>\n",
       "      <td>azul</td>\n",
       "    </tr>\n",
       "    <tr>\n",
       "      <th>3</th>\n",
       "      <td>Colombia</td>\n",
       "      <td>48922000</td>\n",
       "      <td>2780400</td>\n",
       "      <td>17</td>\n",
       "      <td>COLO</td>\n",
       "      <td>A</td>\n",
       "      <td>rojo</td>\n",
       "    </tr>\n",
       "    <tr>\n",
       "      <th>2</th>\n",
       "      <td>Espana</td>\n",
       "      <td>47099000</td>\n",
       "      <td>505944</td>\n",
       "      <td>93</td>\n",
       "      <td>ESPA</td>\n",
       "      <td>B</td>\n",
       "      <td>verde</td>\n",
       "    </tr>\n",
       "    <tr>\n",
       "      <th>0</th>\n",
       "      <td>Mexico</td>\n",
       "      <td>127212000</td>\n",
       "      <td>1142748</td>\n",
       "      <td>111</td>\n",
       "      <td>MEXI</td>\n",
       "      <td>B</td>\n",
       "      <td>azul</td>\n",
       "    </tr>\n",
       "    <tr>\n",
       "      <th>4</th>\n",
       "      <td>Venezuela</td>\n",
       "      <td>32423000</td>\n",
       "      <td>916445</td>\n",
       "      <td>35</td>\n",
       "      <td>VENE</td>\n",
       "      <td>C</td>\n",
       "      <td>azul</td>\n",
       "    </tr>\n",
       "  </tbody>\n",
       "</table>\n",
       "</div>"
      ],
      "text/plain": [
       "        Pais  Poblacion  Superficie  Habit_x_km2 Codigo Categoria  color\n",
       "1  Argentina   45167000     1964375           22   ARGE         C   azul\n",
       "3   Colombia   48922000     2780400           17   COLO         A   rojo\n",
       "2     Espana   47099000      505944           93   ESPA         B  verde\n",
       "0     Mexico  127212000     1142748          111   MEXI         B   azul\n",
       "4  Venezuela   32423000      916445           35   VENE         C   azul"
      ]
     },
     "execution_count": 232,
     "metadata": {},
     "output_type": "execute_result"
    }
   ],
   "source": [
    "def asigna_color(codigo, categoria):\n",
    "    if categoria == 'A':\n",
    "        return 'rojo'\n",
    "    if codigo == 'ESPA':\n",
    "        return 'verde'\n",
    "    return 'azul'\n",
    "\n",
    "df['color'] = df.apply(lambda x: asigna_color(x['Codigo'], x['Categoria']), axis=1);\n",
    "df\n"
   ]
  },
  {
   "cell_type": "markdown",
   "metadata": {},
   "source": [
    "### Mapeo"
   ]
  },
  {
   "cell_type": "code",
   "execution_count": 233,
   "metadata": {
    "ExecuteTime": {
     "end_time": "2019-11-01T15:44:14.912983Z",
     "start_time": "2019-11-01T15:44:14.896382Z"
    }
   },
   "outputs": [
    {
     "data": {
      "text/html": [
       "<div>\n",
       "<style scoped>\n",
       "    .dataframe tbody tr th:only-of-type {\n",
       "        vertical-align: middle;\n",
       "    }\n",
       "\n",
       "    .dataframe tbody tr th {\n",
       "        vertical-align: top;\n",
       "    }\n",
       "\n",
       "    .dataframe thead th {\n",
       "        text-align: right;\n",
       "    }\n",
       "</style>\n",
       "<table border=\"1\" class=\"dataframe\">\n",
       "  <thead>\n",
       "    <tr style=\"text-align: right;\">\n",
       "      <th></th>\n",
       "      <th>Pais</th>\n",
       "      <th>Poblacion</th>\n",
       "      <th>Superficie</th>\n",
       "      <th>Habit_x_km2</th>\n",
       "      <th>Codigo</th>\n",
       "      <th>Categoria</th>\n",
       "      <th>color</th>\n",
       "      <th>mapeo_color</th>\n",
       "    </tr>\n",
       "  </thead>\n",
       "  <tbody>\n",
       "    <tr>\n",
       "      <th>1</th>\n",
       "      <td>Argentina</td>\n",
       "      <td>45167000</td>\n",
       "      <td>1964375</td>\n",
       "      <td>22</td>\n",
       "      <td>ARGE</td>\n",
       "      <td>C</td>\n",
       "      <td>azul</td>\n",
       "      <td>0</td>\n",
       "    </tr>\n",
       "    <tr>\n",
       "      <th>3</th>\n",
       "      <td>Colombia</td>\n",
       "      <td>48922000</td>\n",
       "      <td>2780400</td>\n",
       "      <td>17</td>\n",
       "      <td>COLO</td>\n",
       "      <td>A</td>\n",
       "      <td>rojo</td>\n",
       "      <td>1</td>\n",
       "    </tr>\n",
       "    <tr>\n",
       "      <th>2</th>\n",
       "      <td>Espana</td>\n",
       "      <td>47099000</td>\n",
       "      <td>505944</td>\n",
       "      <td>93</td>\n",
       "      <td>ESPA</td>\n",
       "      <td>B</td>\n",
       "      <td>verde</td>\n",
       "      <td>2</td>\n",
       "    </tr>\n",
       "    <tr>\n",
       "      <th>0</th>\n",
       "      <td>Mexico</td>\n",
       "      <td>127212000</td>\n",
       "      <td>1142748</td>\n",
       "      <td>111</td>\n",
       "      <td>MEXI</td>\n",
       "      <td>B</td>\n",
       "      <td>azul</td>\n",
       "      <td>0</td>\n",
       "    </tr>\n",
       "    <tr>\n",
       "      <th>4</th>\n",
       "      <td>Venezuela</td>\n",
       "      <td>32423000</td>\n",
       "      <td>916445</td>\n",
       "      <td>35</td>\n",
       "      <td>VENE</td>\n",
       "      <td>C</td>\n",
       "      <td>azul</td>\n",
       "      <td>0</td>\n",
       "    </tr>\n",
       "  </tbody>\n",
       "</table>\n",
       "</div>"
      ],
      "text/plain": [
       "        Pais  Poblacion  Superficie  Habit_x_km2 Codigo Categoria  color  \\\n",
       "1  Argentina   45167000     1964375           22   ARGE         C   azul   \n",
       "3   Colombia   48922000     2780400           17   COLO         A   rojo   \n",
       "2     Espana   47099000      505944           93   ESPA         B  verde   \n",
       "0     Mexico  127212000     1142748          111   MEXI         B   azul   \n",
       "4  Venezuela   32423000      916445           35   VENE         C   azul   \n",
       "\n",
       "   mapeo_color  \n",
       "1            0  \n",
       "3            1  \n",
       "2            2  \n",
       "0            0  \n",
       "4            0  "
      ]
     },
     "execution_count": 233,
     "metadata": {},
     "output_type": "execute_result"
    }
   ],
   "source": [
    "df['mapeo_color'] = df['color'].map( {'azul':0, 'rojo':1, 'verde':2} ).astype(int)\n",
    "df\n"
   ]
  },
  {
   "cell_type": "markdown",
   "metadata": {},
   "source": [
    "# Reordenamos columnas"
   ]
  },
  {
   "cell_type": "code",
   "execution_count": 234,
   "metadata": {
    "ExecuteTime": {
     "end_time": "2019-11-01T15:44:14.934899Z",
     "start_time": "2019-11-01T15:44:14.916339Z"
    }
   },
   "outputs": [
    {
     "data": {
      "text/html": [
       "<div>\n",
       "<style scoped>\n",
       "    .dataframe tbody tr th:only-of-type {\n",
       "        vertical-align: middle;\n",
       "    }\n",
       "\n",
       "    .dataframe tbody tr th {\n",
       "        vertical-align: top;\n",
       "    }\n",
       "\n",
       "    .dataframe thead th {\n",
       "        text-align: right;\n",
       "    }\n",
       "</style>\n",
       "<table border=\"1\" class=\"dataframe\">\n",
       "  <thead>\n",
       "    <tr style=\"text-align: right;\">\n",
       "      <th></th>\n",
       "      <th>Codigo</th>\n",
       "      <th>Pais</th>\n",
       "      <th>Poblacion</th>\n",
       "      <th>Categoria</th>\n",
       "      <th>Superficie</th>\n",
       "      <th>Habit_x_km2</th>\n",
       "    </tr>\n",
       "  </thead>\n",
       "  <tbody>\n",
       "    <tr>\n",
       "      <th>1</th>\n",
       "      <td>ARGE</td>\n",
       "      <td>Argentina</td>\n",
       "      <td>45167000</td>\n",
       "      <td>C</td>\n",
       "      <td>1964375</td>\n",
       "      <td>22</td>\n",
       "    </tr>\n",
       "    <tr>\n",
       "      <th>3</th>\n",
       "      <td>COLO</td>\n",
       "      <td>Colombia</td>\n",
       "      <td>48922000</td>\n",
       "      <td>A</td>\n",
       "      <td>2780400</td>\n",
       "      <td>17</td>\n",
       "    </tr>\n",
       "    <tr>\n",
       "      <th>2</th>\n",
       "      <td>ESPA</td>\n",
       "      <td>Espana</td>\n",
       "      <td>47099000</td>\n",
       "      <td>B</td>\n",
       "      <td>505944</td>\n",
       "      <td>93</td>\n",
       "    </tr>\n",
       "    <tr>\n",
       "      <th>0</th>\n",
       "      <td>MEXI</td>\n",
       "      <td>Mexico</td>\n",
       "      <td>127212000</td>\n",
       "      <td>B</td>\n",
       "      <td>1142748</td>\n",
       "      <td>111</td>\n",
       "    </tr>\n",
       "    <tr>\n",
       "      <th>4</th>\n",
       "      <td>VENE</td>\n",
       "      <td>Venezuela</td>\n",
       "      <td>32423000</td>\n",
       "      <td>C</td>\n",
       "      <td>916445</td>\n",
       "      <td>35</td>\n",
       "    </tr>\n",
       "  </tbody>\n",
       "</table>\n",
       "</div>"
      ],
      "text/plain": [
       "  Codigo       Pais  Poblacion Categoria  Superficie  Habit_x_km2\n",
       "1   ARGE  Argentina   45167000         C     1964375           22\n",
       "3   COLO   Colombia   48922000         A     2780400           17\n",
       "2   ESPA     Espana   47099000         B      505944           93\n",
       "0   MEXI     Mexico  127212000         B     1142748          111\n",
       "4   VENE  Venezuela   32423000         C      916445           35"
      ]
     },
     "execution_count": 234,
     "metadata": {},
     "output_type": "execute_result"
    }
   ],
   "source": [
    "df = df[['Codigo', 'Pais', 'Poblacion', 'Categoria', 'Superficie', 'Habit_x_km2']]\n",
    "df"
   ]
  },
  {
   "cell_type": "markdown",
   "metadata": {},
   "source": [
    "# Join entre tablas"
   ]
  },
  {
   "cell_type": "markdown",
   "metadata": {},
   "source": [
    "## Concat usando indice"
   ]
  },
  {
   "cell_type": "code",
   "execution_count": 235,
   "metadata": {
    "ExecuteTime": {
     "end_time": "2019-11-01T15:44:14.952745Z",
     "start_time": "2019-11-01T15:44:14.937961Z"
    }
   },
   "outputs": [
    {
     "data": {
      "text/html": [
       "<div>\n",
       "<style scoped>\n",
       "    .dataframe tbody tr th:only-of-type {\n",
       "        vertical-align: middle;\n",
       "    }\n",
       "\n",
       "    .dataframe tbody tr th {\n",
       "        vertical-align: top;\n",
       "    }\n",
       "\n",
       "    .dataframe thead th {\n",
       "        text-align: right;\n",
       "    }\n",
       "</style>\n",
       "<table border=\"1\" class=\"dataframe\">\n",
       "  <thead>\n",
       "    <tr style=\"text-align: right;\">\n",
       "      <th></th>\n",
       "      <th>Comida</th>\n",
       "    </tr>\n",
       "  </thead>\n",
       "  <tbody>\n",
       "    <tr>\n",
       "      <th>MEXI</th>\n",
       "      <td>Burritos</td>\n",
       "    </tr>\n",
       "    <tr>\n",
       "      <th>ARGE</th>\n",
       "      <td>Milanesa</td>\n",
       "    </tr>\n",
       "    <tr>\n",
       "      <th>ESPA</th>\n",
       "      <td>Tortilla</td>\n",
       "    </tr>\n",
       "    <tr>\n",
       "      <th>COLO</th>\n",
       "      <td>Sancocho</td>\n",
       "    </tr>\n",
       "    <tr>\n",
       "      <th>VENE</th>\n",
       "      <td>Arepas</td>\n",
       "    </tr>\n",
       "  </tbody>\n",
       "</table>\n",
       "</div>"
      ],
      "text/plain": [
       "        Comida\n",
       "MEXI  Burritos\n",
       "ARGE  Milanesa\n",
       "ESPA  Tortilla\n",
       "COLO  Sancocho\n",
       "VENE    Arepas"
      ]
     },
     "execution_count": 235,
     "metadata": {},
     "output_type": "execute_result"
    }
   ],
   "source": [
    "# Creamos un DF nuevo, le asignamos el Codigo como identificador único\n",
    "df_comida = pd.DataFrame(data={\n",
    "                        \"Comida\":['Burritos', 'Milanesa', 'Tortilla', 'Sancocho', 'Arepas']},\n",
    "                        index = ['MEXI', 'ARGE', 'ESPA', 'COLO', 'VENE'])\n",
    "df_comida\n"
   ]
  },
  {
   "cell_type": "code",
   "execution_count": 236,
   "metadata": {
    "ExecuteTime": {
     "end_time": "2019-11-01T15:44:14.973063Z",
     "start_time": "2019-11-01T15:44:14.955356Z"
    }
   },
   "outputs": [
    {
     "data": {
      "text/html": [
       "<div>\n",
       "<style scoped>\n",
       "    .dataframe tbody tr th:only-of-type {\n",
       "        vertical-align: middle;\n",
       "    }\n",
       "\n",
       "    .dataframe tbody tr th {\n",
       "        vertical-align: top;\n",
       "    }\n",
       "\n",
       "    .dataframe thead th {\n",
       "        text-align: right;\n",
       "    }\n",
       "</style>\n",
       "<table border=\"1\" class=\"dataframe\">\n",
       "  <thead>\n",
       "    <tr style=\"text-align: right;\">\n",
       "      <th></th>\n",
       "      <th>Pais</th>\n",
       "      <th>Poblacion</th>\n",
       "      <th>Categoria</th>\n",
       "      <th>Superficie</th>\n",
       "      <th>Habit_x_km2</th>\n",
       "    </tr>\n",
       "    <tr>\n",
       "      <th>Codigo</th>\n",
       "      <th></th>\n",
       "      <th></th>\n",
       "      <th></th>\n",
       "      <th></th>\n",
       "      <th></th>\n",
       "    </tr>\n",
       "  </thead>\n",
       "  <tbody>\n",
       "    <tr>\n",
       "      <th>ARGE</th>\n",
       "      <td>Argentina</td>\n",
       "      <td>45167000</td>\n",
       "      <td>C</td>\n",
       "      <td>1964375</td>\n",
       "      <td>22</td>\n",
       "    </tr>\n",
       "    <tr>\n",
       "      <th>COLO</th>\n",
       "      <td>Colombia</td>\n",
       "      <td>48922000</td>\n",
       "      <td>A</td>\n",
       "      <td>2780400</td>\n",
       "      <td>17</td>\n",
       "    </tr>\n",
       "    <tr>\n",
       "      <th>ESPA</th>\n",
       "      <td>Espana</td>\n",
       "      <td>47099000</td>\n",
       "      <td>B</td>\n",
       "      <td>505944</td>\n",
       "      <td>93</td>\n",
       "    </tr>\n",
       "    <tr>\n",
       "      <th>MEXI</th>\n",
       "      <td>Mexico</td>\n",
       "      <td>127212000</td>\n",
       "      <td>B</td>\n",
       "      <td>1142748</td>\n",
       "      <td>111</td>\n",
       "    </tr>\n",
       "    <tr>\n",
       "      <th>VENE</th>\n",
       "      <td>Venezuela</td>\n",
       "      <td>32423000</td>\n",
       "      <td>C</td>\n",
       "      <td>916445</td>\n",
       "      <td>35</td>\n",
       "    </tr>\n",
       "  </tbody>\n",
       "</table>\n",
       "</div>"
      ],
      "text/plain": [
       "             Pais  Poblacion Categoria  Superficie  Habit_x_km2\n",
       "Codigo                                                         \n",
       "ARGE    Argentina   45167000         C     1964375           22\n",
       "COLO     Colombia   48922000         A     2780400           17\n",
       "ESPA       Espana   47099000         B      505944           93\n",
       "MEXI       Mexico  127212000         B     1142748          111\n",
       "VENE    Venezuela   32423000         C      916445           35"
      ]
     },
     "execution_count": 236,
     "metadata": {},
     "output_type": "execute_result"
    }
   ],
   "source": [
    "#asignamos indice en nuestro DF inicial\n",
    "df_index = df.set_index('Codigo')\n",
    "df_index\n"
   ]
  },
  {
   "cell_type": "code",
   "execution_count": 237,
   "metadata": {
    "ExecuteTime": {
     "end_time": "2019-11-01T15:44:14.995530Z",
     "start_time": "2019-11-01T15:44:14.979854Z"
    }
   },
   "outputs": [
    {
     "data": {
      "text/html": [
       "<div>\n",
       "<style scoped>\n",
       "    .dataframe tbody tr th:only-of-type {\n",
       "        vertical-align: middle;\n",
       "    }\n",
       "\n",
       "    .dataframe tbody tr th {\n",
       "        vertical-align: top;\n",
       "    }\n",
       "\n",
       "    .dataframe thead th {\n",
       "        text-align: right;\n",
       "    }\n",
       "</style>\n",
       "<table border=\"1\" class=\"dataframe\">\n",
       "  <thead>\n",
       "    <tr style=\"text-align: right;\">\n",
       "      <th></th>\n",
       "      <th>Pais</th>\n",
       "      <th>Poblacion</th>\n",
       "      <th>Categoria</th>\n",
       "      <th>Superficie</th>\n",
       "      <th>Habit_x_km2</th>\n",
       "      <th>Comida</th>\n",
       "    </tr>\n",
       "  </thead>\n",
       "  <tbody>\n",
       "    <tr>\n",
       "      <th>ARGE</th>\n",
       "      <td>Argentina</td>\n",
       "      <td>45167000</td>\n",
       "      <td>C</td>\n",
       "      <td>1964375</td>\n",
       "      <td>22</td>\n",
       "      <td>Milanesa</td>\n",
       "    </tr>\n",
       "    <tr>\n",
       "      <th>COLO</th>\n",
       "      <td>Colombia</td>\n",
       "      <td>48922000</td>\n",
       "      <td>A</td>\n",
       "      <td>2780400</td>\n",
       "      <td>17</td>\n",
       "      <td>Sancocho</td>\n",
       "    </tr>\n",
       "    <tr>\n",
       "      <th>ESPA</th>\n",
       "      <td>Espana</td>\n",
       "      <td>47099000</td>\n",
       "      <td>B</td>\n",
       "      <td>505944</td>\n",
       "      <td>93</td>\n",
       "      <td>Tortilla</td>\n",
       "    </tr>\n",
       "    <tr>\n",
       "      <th>MEXI</th>\n",
       "      <td>Mexico</td>\n",
       "      <td>127212000</td>\n",
       "      <td>B</td>\n",
       "      <td>1142748</td>\n",
       "      <td>111</td>\n",
       "      <td>Burritos</td>\n",
       "    </tr>\n",
       "    <tr>\n",
       "      <th>VENE</th>\n",
       "      <td>Venezuela</td>\n",
       "      <td>32423000</td>\n",
       "      <td>C</td>\n",
       "      <td>916445</td>\n",
       "      <td>35</td>\n",
       "      <td>Arepas</td>\n",
       "    </tr>\n",
       "  </tbody>\n",
       "</table>\n",
       "</div>"
      ],
      "text/plain": [
       "           Pais  Poblacion Categoria  Superficie  Habit_x_km2    Comida\n",
       "ARGE  Argentina   45167000         C     1964375           22  Milanesa\n",
       "COLO   Colombia   48922000         A     2780400           17  Sancocho\n",
       "ESPA     Espana   47099000         B      505944           93  Tortilla\n",
       "MEXI     Mexico  127212000         B     1142748          111  Burritos\n",
       "VENE  Venezuela   32423000         C      916445           35    Arepas"
      ]
     },
     "execution_count": 237,
     "metadata": {},
     "output_type": "execute_result"
    }
   ],
   "source": [
    "#hacemos el join por indice\n",
    "result1 = pd.concat([df_index, df_comida], axis=1, sort=True)\n",
    "result1\n"
   ]
  },
  {
   "cell_type": "markdown",
   "metadata": {},
   "source": [
    "## Left join por columna clave (merge)"
   ]
  },
  {
   "cell_type": "code",
   "execution_count": 238,
   "metadata": {
    "ExecuteTime": {
     "end_time": "2019-11-01T15:44:15.010248Z",
     "start_time": "2019-11-01T15:44:14.998373Z"
    }
   },
   "outputs": [
    {
     "data": {
      "text/html": [
       "<div>\n",
       "<style scoped>\n",
       "    .dataframe tbody tr th:only-of-type {\n",
       "        vertical-align: middle;\n",
       "    }\n",
       "\n",
       "    .dataframe tbody tr th {\n",
       "        vertical-align: top;\n",
       "    }\n",
       "\n",
       "    .dataframe thead th {\n",
       "        text-align: right;\n",
       "    }\n",
       "</style>\n",
       "<table border=\"1\" class=\"dataframe\">\n",
       "  <thead>\n",
       "    <tr style=\"text-align: right;\">\n",
       "      <th></th>\n",
       "      <th>Categoria</th>\n",
       "      <th>Factor</th>\n",
       "    </tr>\n",
       "  </thead>\n",
       "  <tbody>\n",
       "    <tr>\n",
       "      <th>0</th>\n",
       "      <td>A</td>\n",
       "      <td>12.500</td>\n",
       "    </tr>\n",
       "    <tr>\n",
       "      <th>1</th>\n",
       "      <td>B</td>\n",
       "      <td>103.000</td>\n",
       "    </tr>\n",
       "    <tr>\n",
       "      <th>2</th>\n",
       "      <td>C</td>\n",
       "      <td>0.001</td>\n",
       "    </tr>\n",
       "  </tbody>\n",
       "</table>\n",
       "</div>"
      ],
      "text/plain": [
       "  Categoria   Factor\n",
       "0         A   12.500\n",
       "1         B  103.000\n",
       "2         C    0.001"
      ]
     },
     "execution_count": 238,
     "metadata": {},
     "output_type": "execute_result"
    }
   ],
   "source": [
    "# Imaginemos que tenemos un DF nuevo, le asignamos el Codigo como identificador único\n",
    "df_factor = pd.DataFrame(data={\"Categoria\":[\"A\", \"B\", \"C\"],\n",
    "                            \"Factor\":[12.5, 103, 0.001]}\n",
    "                        )\n",
    "df_factor"
   ]
  },
  {
   "cell_type": "code",
   "execution_count": 239,
   "metadata": {
    "ExecuteTime": {
     "end_time": "2019-11-01T15:44:15.041154Z",
     "start_time": "2019-11-01T15:44:15.012815Z"
    }
   },
   "outputs": [
    {
     "data": {
      "text/html": [
       "<div>\n",
       "<style scoped>\n",
       "    .dataframe tbody tr th:only-of-type {\n",
       "        vertical-align: middle;\n",
       "    }\n",
       "\n",
       "    .dataframe tbody tr th {\n",
       "        vertical-align: top;\n",
       "    }\n",
       "\n",
       "    .dataframe thead th {\n",
       "        text-align: right;\n",
       "    }\n",
       "</style>\n",
       "<table border=\"1\" class=\"dataframe\">\n",
       "  <thead>\n",
       "    <tr style=\"text-align: right;\">\n",
       "      <th></th>\n",
       "      <th>Codigo</th>\n",
       "      <th>Pais</th>\n",
       "      <th>Poblacion</th>\n",
       "      <th>Categoria</th>\n",
       "      <th>Superficie</th>\n",
       "      <th>Habit_x_km2</th>\n",
       "      <th>Factor</th>\n",
       "    </tr>\n",
       "  </thead>\n",
       "  <tbody>\n",
       "    <tr>\n",
       "      <th>0</th>\n",
       "      <td>ARGE</td>\n",
       "      <td>Argentina</td>\n",
       "      <td>45167000</td>\n",
       "      <td>C</td>\n",
       "      <td>1964375</td>\n",
       "      <td>22</td>\n",
       "      <td>0.001</td>\n",
       "    </tr>\n",
       "    <tr>\n",
       "      <th>1</th>\n",
       "      <td>COLO</td>\n",
       "      <td>Colombia</td>\n",
       "      <td>48922000</td>\n",
       "      <td>A</td>\n",
       "      <td>2780400</td>\n",
       "      <td>17</td>\n",
       "      <td>12.500</td>\n",
       "    </tr>\n",
       "    <tr>\n",
       "      <th>2</th>\n",
       "      <td>ESPA</td>\n",
       "      <td>Espana</td>\n",
       "      <td>47099000</td>\n",
       "      <td>B</td>\n",
       "      <td>505944</td>\n",
       "      <td>93</td>\n",
       "      <td>103.000</td>\n",
       "    </tr>\n",
       "    <tr>\n",
       "      <th>3</th>\n",
       "      <td>MEXI</td>\n",
       "      <td>Mexico</td>\n",
       "      <td>127212000</td>\n",
       "      <td>B</td>\n",
       "      <td>1142748</td>\n",
       "      <td>111</td>\n",
       "      <td>103.000</td>\n",
       "    </tr>\n",
       "    <tr>\n",
       "      <th>4</th>\n",
       "      <td>VENE</td>\n",
       "      <td>Venezuela</td>\n",
       "      <td>32423000</td>\n",
       "      <td>C</td>\n",
       "      <td>916445</td>\n",
       "      <td>35</td>\n",
       "      <td>0.001</td>\n",
       "    </tr>\n",
       "  </tbody>\n",
       "</table>\n",
       "</div>"
      ],
      "text/plain": [
       "  Codigo       Pais  Poblacion Categoria  Superficie  Habit_x_km2   Factor\n",
       "0   ARGE  Argentina   45167000         C     1964375           22    0.001\n",
       "1   COLO   Colombia   48922000         A     2780400           17   12.500\n",
       "2   ESPA     Espana   47099000         B      505944           93  103.000\n",
       "3   MEXI     Mexico  127212000         B     1142748          111  103.000\n",
       "4   VENE  Venezuela   32423000         C      916445           35    0.001"
      ]
     },
     "execution_count": 239,
     "metadata": {},
     "output_type": "execute_result"
    }
   ],
   "source": [
    "result2 = pd.merge(df, df_factor, how='left', on=['Categoria'])\n",
    "result2\n"
   ]
  },
  {
   "cell_type": "markdown",
   "metadata": {},
   "source": [
    "## Adicionar multiples filas desde otra Tabla con Append"
   ]
  },
  {
   "cell_type": "code",
   "execution_count": 240,
   "metadata": {
    "ExecuteTime": {
     "end_time": "2019-11-01T15:44:15.055827Z",
     "start_time": "2019-11-01T15:44:15.044875Z"
    }
   },
   "outputs": [
    {
     "data": {
      "text/html": [
       "<div>\n",
       "<style scoped>\n",
       "    .dataframe tbody tr th:only-of-type {\n",
       "        vertical-align: middle;\n",
       "    }\n",
       "\n",
       "    .dataframe tbody tr th {\n",
       "        vertical-align: top;\n",
       "    }\n",
       "\n",
       "    .dataframe thead th {\n",
       "        text-align: right;\n",
       "    }\n",
       "</style>\n",
       "<table border=\"1\" class=\"dataframe\">\n",
       "  <thead>\n",
       "    <tr style=\"text-align: right;\">\n",
       "      <th></th>\n",
       "      <th>Pais</th>\n",
       "      <th>Poblacion</th>\n",
       "      <th>Superficie</th>\n",
       "    </tr>\n",
       "  </thead>\n",
       "  <tbody>\n",
       "    <tr>\n",
       "      <th>0</th>\n",
       "      <td>Brasil</td>\n",
       "      <td>210688000</td>\n",
       "      <td>8515770</td>\n",
       "    </tr>\n",
       "    <tr>\n",
       "      <th>1</th>\n",
       "      <td>Chile</td>\n",
       "      <td>19241000</td>\n",
       "      <td>56102</td>\n",
       "    </tr>\n",
       "  </tbody>\n",
       "</table>\n",
       "</div>"
      ],
      "text/plain": [
       "     Pais  Poblacion  Superficie\n",
       "0  Brasil  210688000     8515770\n",
       "1   Chile   19241000       56102"
      ]
     },
     "execution_count": 240,
     "metadata": {},
     "output_type": "execute_result"
    }
   ],
   "source": [
    "#supongamos que tenemos otra tabla:\n",
    "df_otros = pd.DataFrame(data={\"Pais\":['Brasil', 'Chile'],\n",
    "                        \"Poblacion\":[210688000, 19241000],\n",
    "                        \"Superficie\":[8515770, 56102]})\n",
    "df_otros\n"
   ]
  },
  {
   "cell_type": "code",
   "execution_count": 241,
   "metadata": {
    "ExecuteTime": {
     "end_time": "2019-11-01T15:46:06.559771Z",
     "start_time": "2019-11-01T15:46:06.537879Z"
    }
   },
   "outputs": [],
   "source": [
    "# Queremos agregar estas filas al final\n",
    "# df.append(df_otros, ignore_index=True, sort=True) # deprecado\n",
    "df = pd.concat([df, df_otros], ignore_index=True, sort=True)\n"
   ]
  },
  {
   "cell_type": "markdown",
   "metadata": {},
   "source": [
    "## Agrupar"
   ]
  },
  {
   "cell_type": "code",
   "execution_count": 242,
   "metadata": {
    "ExecuteTime": {
     "end_time": "2019-11-01T15:47:36.567983Z",
     "start_time": "2019-11-01T15:47:36.557822Z"
    }
   },
   "outputs": [
    {
     "data": {
      "text/plain": [
       "Categoria\n",
       "A    1\n",
       "B    2\n",
       "C    2\n",
       "dtype: int64"
      ]
     },
     "execution_count": 242,
     "metadata": {},
     "output_type": "execute_result"
    }
   ],
   "source": [
    "# agrupo por categoria y sumo cuantos hay de cada una\n",
    "grupo2 = df.groupby(['Categoria']).size()\n",
    "grupo2\n"
   ]
  },
  {
   "cell_type": "code",
   "execution_count": 243,
   "metadata": {
    "ExecuteTime": {
     "end_time": "2019-11-01T15:47:26.846898Z",
     "start_time": "2019-11-01T15:47:26.831749Z"
    }
   },
   "outputs": [
    {
     "data": {
      "text/html": [
       "<div>\n",
       "<style scoped>\n",
       "    .dataframe tbody tr th:only-of-type {\n",
       "        vertical-align: middle;\n",
       "    }\n",
       "\n",
       "    .dataframe tbody tr th {\n",
       "        vertical-align: top;\n",
       "    }\n",
       "\n",
       "    .dataframe thead th {\n",
       "        text-align: right;\n",
       "    }\n",
       "</style>\n",
       "<table border=\"1\" class=\"dataframe\">\n",
       "  <thead>\n",
       "    <tr style=\"text-align: right;\">\n",
       "      <th></th>\n",
       "      <th>Codigo</th>\n",
       "      <th>Habit_x_km2</th>\n",
       "      <th>Pais</th>\n",
       "      <th>Poblacion</th>\n",
       "      <th>Superficie</th>\n",
       "    </tr>\n",
       "    <tr>\n",
       "      <th>Categoria</th>\n",
       "      <th></th>\n",
       "      <th></th>\n",
       "      <th></th>\n",
       "      <th></th>\n",
       "      <th></th>\n",
       "    </tr>\n",
       "  </thead>\n",
       "  <tbody>\n",
       "    <tr>\n",
       "      <th>A</th>\n",
       "      <td>COLO</td>\n",
       "      <td>17.0</td>\n",
       "      <td>Colombia</td>\n",
       "      <td>48922000</td>\n",
       "      <td>2780400</td>\n",
       "    </tr>\n",
       "    <tr>\n",
       "      <th>B</th>\n",
       "      <td>ESPAMEXI</td>\n",
       "      <td>204.0</td>\n",
       "      <td>EspanaMexico</td>\n",
       "      <td>174311000</td>\n",
       "      <td>1648692</td>\n",
       "    </tr>\n",
       "    <tr>\n",
       "      <th>C</th>\n",
       "      <td>ARGEVENE</td>\n",
       "      <td>57.0</td>\n",
       "      <td>ArgentinaVenezuela</td>\n",
       "      <td>77590000</td>\n",
       "      <td>2880820</td>\n",
       "    </tr>\n",
       "  </tbody>\n",
       "</table>\n",
       "</div>"
      ],
      "text/plain": [
       "             Codigo  Habit_x_km2                Pais  Poblacion  Superficie\n",
       "Categoria                                                                  \n",
       "A              COLO         17.0            Colombia   48922000     2780400\n",
       "B          ESPAMEXI        204.0        EspanaMexico  174311000     1648692\n",
       "C          ARGEVENE         57.0  ArgentinaVenezuela   77590000     2880820"
      ]
     },
     "execution_count": 243,
     "metadata": {},
     "output_type": "execute_result"
    }
   ],
   "source": [
    "# agrupo por cateroría y sumo\n",
    "grupo1 = df.groupby(['Categoria']).sum()\n",
    "grupo1\n"
   ]
  },
  {
   "cell_type": "markdown",
   "metadata": {},
   "source": [
    "## Agrupamos por 2 variables y sumarizamos"
   ]
  },
  {
   "cell_type": "code",
   "execution_count": 244,
   "metadata": {
    "ExecuteTime": {
     "end_time": "2019-11-01T15:57:48.494522Z",
     "start_time": "2019-11-01T15:57:48.471806Z"
    }
   },
   "outputs": [
    {
     "data": {
      "text/html": [
       "<div>\n",
       "<style scoped>\n",
       "    .dataframe tbody tr th:only-of-type {\n",
       "        vertical-align: middle;\n",
       "    }\n",
       "\n",
       "    .dataframe tbody tr th {\n",
       "        vertical-align: top;\n",
       "    }\n",
       "\n",
       "    .dataframe thead tr th {\n",
       "        text-align: left;\n",
       "    }\n",
       "</style>\n",
       "<table border=\"1\" class=\"dataframe\">\n",
       "  <thead>\n",
       "    <tr>\n",
       "      <th></th>\n",
       "      <th>Categoria</th>\n",
       "      <th colspan=\"3\" halign=\"left\">Factor</th>\n",
       "    </tr>\n",
       "    <tr>\n",
       "      <th></th>\n",
       "      <th></th>\n",
       "      <th>mean</th>\n",
       "      <th>count</th>\n",
       "      <th>sum</th>\n",
       "    </tr>\n",
       "  </thead>\n",
       "  <tbody>\n",
       "    <tr>\n",
       "      <th>0</th>\n",
       "      <td>A</td>\n",
       "      <td>12.500</td>\n",
       "      <td>1</td>\n",
       "      <td>12.500</td>\n",
       "    </tr>\n",
       "    <tr>\n",
       "      <th>1</th>\n",
       "      <td>B</td>\n",
       "      <td>103.000</td>\n",
       "      <td>2</td>\n",
       "      <td>206.000</td>\n",
       "    </tr>\n",
       "    <tr>\n",
       "      <th>2</th>\n",
       "      <td>C</td>\n",
       "      <td>0.001</td>\n",
       "      <td>2</td>\n",
       "      <td>0.002</td>\n",
       "    </tr>\n",
       "  </tbody>\n",
       "</table>\n",
       "</div>"
      ],
      "text/plain": [
       "  Categoria   Factor               \n",
       "                mean count      sum\n",
       "0         A   12.500     1   12.500\n",
       "1         B  103.000     2  206.000\n",
       "2         C    0.001     2    0.002"
      ]
     },
     "execution_count": 244,
     "metadata": {},
     "output_type": "execute_result"
    }
   ],
   "source": [
    "tabla = result2[['Categoria', 'Factor']].groupby(['Categoria'], as_index=False).agg(['mean', 'count', 'sum'])\n",
    "tabla\n"
   ]
  },
  {
   "cell_type": "markdown",
   "metadata": {},
   "source": [
    "## Pivotar una Tabla"
   ]
  },
  {
   "cell_type": "code",
   "execution_count": 245,
   "metadata": {
    "ExecuteTime": {
     "end_time": "2019-11-01T16:01:28.469318Z",
     "start_time": "2019-11-01T16:01:28.440453Z"
    }
   },
   "outputs": [
    {
     "data": {
      "text/html": [
       "<div>\n",
       "<style scoped>\n",
       "    .dataframe tbody tr th:only-of-type {\n",
       "        vertical-align: middle;\n",
       "    }\n",
       "\n",
       "    .dataframe tbody tr th {\n",
       "        vertical-align: top;\n",
       "    }\n",
       "\n",
       "    .dataframe thead th {\n",
       "        text-align: right;\n",
       "    }\n",
       "</style>\n",
       "<table border=\"1\" class=\"dataframe\">\n",
       "  <thead>\n",
       "    <tr style=\"text-align: right;\">\n",
       "      <th>Pais</th>\n",
       "      <th>Argentina</th>\n",
       "      <th>Colombia</th>\n",
       "      <th>Espana</th>\n",
       "      <th>Mexico</th>\n",
       "      <th>Venezuela</th>\n",
       "    </tr>\n",
       "    <tr>\n",
       "      <th>Categoria</th>\n",
       "      <th></th>\n",
       "      <th></th>\n",
       "      <th></th>\n",
       "      <th></th>\n",
       "      <th></th>\n",
       "    </tr>\n",
       "  </thead>\n",
       "  <tbody>\n",
       "    <tr>\n",
       "      <th>A</th>\n",
       "      <td>0.000</td>\n",
       "      <td>12.5</td>\n",
       "      <td>0.0</td>\n",
       "      <td>0.0</td>\n",
       "      <td>0.000</td>\n",
       "    </tr>\n",
       "    <tr>\n",
       "      <th>B</th>\n",
       "      <td>0.000</td>\n",
       "      <td>0.0</td>\n",
       "      <td>103.0</td>\n",
       "      <td>103.0</td>\n",
       "      <td>0.000</td>\n",
       "    </tr>\n",
       "    <tr>\n",
       "      <th>C</th>\n",
       "      <td>0.001</td>\n",
       "      <td>0.0</td>\n",
       "      <td>0.0</td>\n",
       "      <td>0.0</td>\n",
       "      <td>0.001</td>\n",
       "    </tr>\n",
       "  </tbody>\n",
       "</table>\n",
       "</div>"
      ],
      "text/plain": [
       "Pais       Argentina  Colombia  Espana  Mexico  Venezuela\n",
       "Categoria                                                \n",
       "A              0.000      12.5     0.0     0.0      0.000\n",
       "B              0.000       0.0   103.0   103.0      0.000\n",
       "C              0.001       0.0     0.0     0.0      0.001"
      ]
     },
     "execution_count": 245,
     "metadata": {},
     "output_type": "execute_result"
    }
   ],
   "source": [
    "tabla_t = pd.pivot_table(result2, index='Categoria', columns='Pais', values='Factor').fillna(0)\n",
    "tabla_t\n"
   ]
  },
  {
   "cell_type": "markdown",
   "metadata": {},
   "source": [
    "## Transponer una tabla"
   ]
  },
  {
   "cell_type": "code",
   "execution_count": 246,
   "metadata": {
    "ExecuteTime": {
     "end_time": "2019-11-01T16:08:34.699663Z",
     "start_time": "2019-11-01T16:08:34.685897Z"
    }
   },
   "outputs": [
    {
     "data": {
      "text/html": [
       "<div>\n",
       "<style scoped>\n",
       "    .dataframe tbody tr th:only-of-type {\n",
       "        vertical-align: middle;\n",
       "    }\n",
       "\n",
       "    .dataframe tbody tr th {\n",
       "        vertical-align: top;\n",
       "    }\n",
       "\n",
       "    .dataframe thead th {\n",
       "        text-align: right;\n",
       "    }\n",
       "</style>\n",
       "<table border=\"1\" class=\"dataframe\">\n",
       "  <thead>\n",
       "    <tr style=\"text-align: right;\">\n",
       "      <th></th>\n",
       "      <th>0</th>\n",
       "      <th>1</th>\n",
       "      <th>2</th>\n",
       "      <th>3</th>\n",
       "      <th>4</th>\n",
       "      <th>5</th>\n",
       "      <th>6</th>\n",
       "    </tr>\n",
       "  </thead>\n",
       "  <tbody>\n",
       "    <tr>\n",
       "      <th>Categoria</th>\n",
       "      <td>C</td>\n",
       "      <td>A</td>\n",
       "      <td>B</td>\n",
       "      <td>B</td>\n",
       "      <td>C</td>\n",
       "      <td>NaN</td>\n",
       "      <td>NaN</td>\n",
       "    </tr>\n",
       "    <tr>\n",
       "      <th>Codigo</th>\n",
       "      <td>ARGE</td>\n",
       "      <td>COLO</td>\n",
       "      <td>ESPA</td>\n",
       "      <td>MEXI</td>\n",
       "      <td>VENE</td>\n",
       "      <td>NaN</td>\n",
       "      <td>NaN</td>\n",
       "    </tr>\n",
       "    <tr>\n",
       "      <th>Habit_x_km2</th>\n",
       "      <td>22.0</td>\n",
       "      <td>17.0</td>\n",
       "      <td>93.0</td>\n",
       "      <td>111.0</td>\n",
       "      <td>35.0</td>\n",
       "      <td>NaN</td>\n",
       "      <td>NaN</td>\n",
       "    </tr>\n",
       "    <tr>\n",
       "      <th>Pais</th>\n",
       "      <td>Argentina</td>\n",
       "      <td>Colombia</td>\n",
       "      <td>Espana</td>\n",
       "      <td>Mexico</td>\n",
       "      <td>Venezuela</td>\n",
       "      <td>Brasil</td>\n",
       "      <td>Chile</td>\n",
       "    </tr>\n",
       "    <tr>\n",
       "      <th>Poblacion</th>\n",
       "      <td>45167000</td>\n",
       "      <td>48922000</td>\n",
       "      <td>47099000</td>\n",
       "      <td>127212000</td>\n",
       "      <td>32423000</td>\n",
       "      <td>210688000</td>\n",
       "      <td>19241000</td>\n",
       "    </tr>\n",
       "    <tr>\n",
       "      <th>Superficie</th>\n",
       "      <td>1964375</td>\n",
       "      <td>2780400</td>\n",
       "      <td>505944</td>\n",
       "      <td>1142748</td>\n",
       "      <td>916445</td>\n",
       "      <td>8515770</td>\n",
       "      <td>56102</td>\n",
       "    </tr>\n",
       "  </tbody>\n",
       "</table>\n",
       "</div>"
      ],
      "text/plain": [
       "                     0         1         2          3          4          5  \\\n",
       "Categoria            C         A         B          B          C        NaN   \n",
       "Codigo            ARGE      COLO      ESPA       MEXI       VENE        NaN   \n",
       "Habit_x_km2       22.0      17.0      93.0      111.0       35.0        NaN   \n",
       "Pais         Argentina  Colombia    Espana     Mexico  Venezuela     Brasil   \n",
       "Poblacion     45167000  48922000  47099000  127212000   32423000  210688000   \n",
       "Superficie     1964375   2780400    505944    1142748     916445    8515770   \n",
       "\n",
       "                    6  \n",
       "Categoria         NaN  \n",
       "Codigo            NaN  \n",
       "Habit_x_km2       NaN  \n",
       "Pais            Chile  \n",
       "Poblacion    19241000  \n",
       "Superficie      56102  "
      ]
     },
     "execution_count": 246,
     "metadata": {},
     "output_type": "execute_result"
    }
   ],
   "source": [
    "df.T\n"
   ]
  },
  {
   "cell_type": "markdown",
   "metadata": {},
   "source": [
    "# Visualizacion"
   ]
  },
  {
   "cell_type": "code",
   "execution_count": 247,
   "metadata": {
    "ExecuteTime": {
     "end_time": "2019-11-01T15:48:35.805982Z",
     "start_time": "2019-11-01T15:48:35.411642Z"
    }
   },
   "outputs": [
    {
     "data": {
      "image/png": "[encoded data removed]",
      "text/plain": [
       "<Figure size 640x480 with 1 Axes>"
      ]
     },
     "metadata": {},
     "output_type": "display_data"
    }
   ],
   "source": [
    "import matplotlib.pyplot as plt\n",
    "%matplotlib inline\n",
    "\n",
    "df[['Poblacion', 'Superficie']].plot.hist(bins=5, alpha=0.5)\n",
    "plt.show()\n"
   ]
  },
  {
   "cell_type": "code",
   "execution_count": 248,
   "metadata": {
    "ExecuteTime": {
     "end_time": "2019-11-01T15:48:36.336928Z",
     "start_time": "2019-11-01T15:48:36.045568Z"
    }
   },
   "outputs": [
    {
     "data": {
      "image/png": "[encoded data removed]",
      "text/plain": [
       "<Figure size 640x480 with 1 Axes>"
      ]
     },
     "metadata": {},
     "output_type": "display_data"
    }
   ],
   "source": [
    "df.set_index('Pais')['Poblacion'].plot(kind='bar')\n",
    "plt.show()\n"
   ]
  },
  {
   "cell_type": "code",
   "execution_count": 249,
   "metadata": {
    "ExecuteTime": {
     "end_time": "2019-11-01T15:48:36.884370Z",
     "start_time": "2019-11-01T15:48:36.687776Z"
    }
   },
   "outputs": [
    {
     "data": {
      "image/png": "[encoded data removed]",
      "text/plain": [
       "<Figure size 640x480 with 1 Axes>"
      ]
     },
     "metadata": {},
     "output_type": "display_data"
    }
   ],
   "source": [
    "df.set_index('Pais')['Habit_x_km2'].plot(kind='area')\n",
    "plt.show()\n"
   ]
  },
  {
   "cell_type": "code",
   "execution_count": 250,
   "metadata": {
    "ExecuteTime": {
     "end_time": "2019-11-01T15:48:37.676445Z",
     "start_time": "2019-11-01T15:48:37.280687Z"
    }
   },
   "outputs": [
    {
     "data": {
      "image/png": "[encoded data removed]",
      "text/plain": [
       "<Figure size 640x480 with 1 Axes>"
      ]
     },
     "metadata": {},
     "output_type": "display_data"
    }
   ],
   "source": [
    "df.set_index('Pais').plot.barh(stacked=True)\n",
    "plt.show()\n"
   ]
  },
  {
   "cell_type": "code",
   "execution_count": 251,
   "metadata": {
    "ExecuteTime": {
     "end_time": "2019-11-01T15:48:38.052042Z",
     "start_time": "2019-11-01T15:48:37.912306Z"
    }
   },
   "outputs": [
    {
     "data": {
      "image/png": "[encoded data removed]",
      "text/plain": [
       "<Figure size 640x480 with 1 Axes>"
      ]
     },
     "metadata": {},
     "output_type": "display_data"
    }
   ],
   "source": [
    "df.set_index('Pais')['Superficie'].plot.pie()\n",
    "plt.show()\n"
   ]
  },
  {
   "cell_type": "code",
   "execution_count": 252,
   "metadata": {
    "ExecuteTime": {
     "end_time": "2019-11-01T15:48:38.810494Z",
     "start_time": "2019-11-01T15:48:38.586759Z"
    }
   },
   "outputs": [
    {
     "data": {
      "image/png": "[encoded data removed]",
      "text/plain": [
       "<Figure size 640x480 with 1 Axes>"
      ]
     },
     "metadata": {},
     "output_type": "display_data"
    }
   ],
   "source": [
    "df.plot.scatter(x='Habit_x_km2', y='Superficie')\n",
    "plt.show()\n"
   ]
  },
  {
   "cell_type": "markdown",
   "metadata": {},
   "source": [
    "# Básicos!"
   ]
  },
  {
   "cell_type": "code",
   "execution_count": 253,
   "metadata": {
    "ExecuteTime": {
     "end_time": "2019-11-01T15:48:42.272449Z",
     "start_time": "2019-11-01T15:48:42.269550Z"
    }
   },
   "outputs": [],
   "source": [
    "# Leer un archivo csv\n",
    "#df_csv = pd.read_csv(\"nombre_archivo.csv\")"
   ]
  },
  {
   "cell_type": "code",
   "execution_count": 254,
   "metadata": {
    "ExecuteTime": {
     "end_time": "2019-11-01T15:48:42.479909Z",
     "start_time": "2019-11-01T15:48:42.471503Z"
    }
   },
   "outputs": [
    {
     "name": "stdout",
     "output_type": "stream",
     "text": [
      "<class 'pandas.core.frame.DataFrame'>\n",
      "RangeIndex: 7 entries, 0 to 6\n",
      "Data columns (total 6 columns):\n",
      " #   Column       Non-Null Count  Dtype  \n",
      "---  ------       --------------  -----  \n",
      " 0   Categoria    5 non-null      object \n",
      " 1   Codigo       5 non-null      object \n",
      " 2   Habit_x_km2  5 non-null      float64\n",
      " 3   Pais         7 non-null      object \n",
      " 4   Poblacion    7 non-null      int64  \n",
      " 5   Superficie   7 non-null      int64  \n",
      "dtypes: float64(1), int64(2), object(3)\n",
      "memory usage: 468.0+ bytes\n"
     ]
    }
   ],
   "source": [
    "# Informacion de columnas, tipos de datos y nulos\n",
    "df.info()\n"
   ]
  },
  {
   "cell_type": "code",
   "execution_count": 255,
   "metadata": {
    "ExecuteTime": {
     "end_time": "2019-11-01T15:48:42.660761Z",
     "start_time": "2019-11-01T15:48:42.627756Z"
    }
   },
   "outputs": [
    {
     "data": {
      "text/html": [
       "<div>\n",
       "<style scoped>\n",
       "    .dataframe tbody tr th:only-of-type {\n",
       "        vertical-align: middle;\n",
       "    }\n",
       "\n",
       "    .dataframe tbody tr th {\n",
       "        vertical-align: top;\n",
       "    }\n",
       "\n",
       "    .dataframe thead th {\n",
       "        text-align: right;\n",
       "    }\n",
       "</style>\n",
       "<table border=\"1\" class=\"dataframe\">\n",
       "  <thead>\n",
       "    <tr style=\"text-align: right;\">\n",
       "      <th></th>\n",
       "      <th>Habit_x_km2</th>\n",
       "      <th>Poblacion</th>\n",
       "      <th>Superficie</th>\n",
       "    </tr>\n",
       "  </thead>\n",
       "  <tbody>\n",
       "    <tr>\n",
       "      <th>count</th>\n",
       "      <td>5.00000</td>\n",
       "      <td>7.000000e+00</td>\n",
       "      <td>7.000000e+00</td>\n",
       "    </tr>\n",
       "    <tr>\n",
       "      <th>mean</th>\n",
       "      <td>55.60000</td>\n",
       "      <td>7.582171e+07</td>\n",
       "      <td>2.268826e+06</td>\n",
       "    </tr>\n",
       "    <tr>\n",
       "      <th>std</th>\n",
       "      <td>43.33359</td>\n",
       "      <td>6.880286e+07</td>\n",
       "      <td>2.900563e+06</td>\n",
       "    </tr>\n",
       "    <tr>\n",
       "      <th>min</th>\n",
       "      <td>17.00000</td>\n",
       "      <td>1.924100e+07</td>\n",
       "      <td>5.610200e+04</td>\n",
       "    </tr>\n",
       "    <tr>\n",
       "      <th>25%</th>\n",
       "      <td>22.00000</td>\n",
       "      <td>3.879500e+07</td>\n",
       "      <td>7.111945e+05</td>\n",
       "    </tr>\n",
       "    <tr>\n",
       "      <th>50%</th>\n",
       "      <td>35.00000</td>\n",
       "      <td>4.709900e+07</td>\n",
       "      <td>1.142748e+06</td>\n",
       "    </tr>\n",
       "    <tr>\n",
       "      <th>75%</th>\n",
       "      <td>93.00000</td>\n",
       "      <td>8.806700e+07</td>\n",
       "      <td>2.372388e+06</td>\n",
       "    </tr>\n",
       "    <tr>\n",
       "      <th>max</th>\n",
       "      <td>111.00000</td>\n",
       "      <td>2.106880e+08</td>\n",
       "      <td>8.515770e+06</td>\n",
       "    </tr>\n",
       "  </tbody>\n",
       "</table>\n",
       "</div>"
      ],
      "text/plain": [
       "       Habit_x_km2     Poblacion    Superficie\n",
       "count      5.00000  7.000000e+00  7.000000e+00\n",
       "mean      55.60000  7.582171e+07  2.268826e+06\n",
       "std       43.33359  6.880286e+07  2.900563e+06\n",
       "min       17.00000  1.924100e+07  5.610200e+04\n",
       "25%       22.00000  3.879500e+07  7.111945e+05\n",
       "50%       35.00000  4.709900e+07  1.142748e+06\n",
       "75%       93.00000  8.806700e+07  2.372388e+06\n",
       "max      111.00000  2.106880e+08  8.515770e+06"
      ]
     },
     "execution_count": 255,
     "metadata": {},
     "output_type": "execute_result"
    }
   ],
   "source": [
    "# estadísticas sobre las columnas numéricas\n",
    "df.describe()\n"
   ]
  },
  {
   "cell_type": "code",
   "execution_count": null,
   "metadata": {
    "ExecuteTime": {
     "end_time": "2019-11-01T15:48:42.784227Z",
     "start_time": "2019-11-01T15:48:42.772163Z"
    }
   },
   "outputs": [
    {
     "data": {
      "text/html": [
       "<div>\n",
       "<style scoped>\n",
       "    .dataframe tbody tr th:only-of-type {\n",
       "        vertical-align: middle;\n",
       "    }\n",
       "\n",
       "    .dataframe tbody tr th {\n",
       "        vertical-align: top;\n",
       "    }\n",
       "\n",
       "    .dataframe thead th {\n",
       "        text-align: right;\n",
       "    }\n",
       "</style>\n",
       "<table border=\"1\" class=\"dataframe\">\n",
       "  <thead>\n",
       "    <tr style=\"text-align: right;\">\n",
       "      <th></th>\n",
       "      <th>Categoria</th>\n",
       "      <th>Codigo</th>\n",
       "      <th>Habit_x_km2</th>\n",
       "      <th>Pais</th>\n",
       "      <th>Poblacion</th>\n",
       "      <th>Superficie</th>\n",
       "    </tr>\n",
       "  </thead>\n",
       "  <tbody>\n",
       "    <tr>\n",
       "      <th>5</th>\n",
       "      <td>NaN</td>\n",
       "      <td>NaN</td>\n",
       "      <td>NaN</td>\n",
       "      <td>Brasil</td>\n",
       "      <td>210688000</td>\n",
       "      <td>8515770</td>\n",
       "    </tr>\n",
       "    <tr>\n",
       "      <th>6</th>\n",
       "      <td>NaN</td>\n",
       "      <td>NaN</td>\n",
       "      <td>NaN</td>\n",
       "      <td>Chile</td>\n",
       "      <td>19241000</td>\n",
       "      <td>56102</td>\n",
       "    </tr>\n",
       "  </tbody>\n",
       "</table>\n",
       "</div>"
      ],
      "text/plain": [
       "  Categoria Codigo  Habit_x_km2    Pais  Poblacion  Superficie\n",
       "5       NaN    NaN          NaN  Brasil  210688000     8515770\n",
       "6       NaN    NaN          NaN   Chile   19241000       56102"
      ]
     },
     "execution_count": 256,
     "metadata": {},
     "output_type": "execute_result"
    }
   ],
   "source": [
    "#ver primeras n filas  (ó ultimas)\n",
    "df.head(2)\n",
    "df.tail(2)\n"
   ]
  },
  {
   "cell_type": "code",
   "execution_count": 257,
   "metadata": {
    "ExecuteTime": {
     "end_time": "2019-11-01T15:48:42.927525Z",
     "start_time": "2019-11-01T15:48:42.921997Z"
    }
   },
   "outputs": [
    {
     "data": {
      "text/plain": [
       "(7, 6)"
      ]
     },
     "execution_count": 257,
     "metadata": {},
     "output_type": "execute_result"
    }
   ],
   "source": [
    "# dimensiones del dataframe (filas, columnas)\n",
    "df.shape\n"
   ]
  },
  {
   "cell_type": "code",
   "execution_count": 258,
   "metadata": {
    "ExecuteTime": {
     "end_time": "2019-11-01T15:48:43.063888Z",
     "start_time": "2019-11-01T15:48:43.058500Z"
    }
   },
   "outputs": [
    {
     "data": {
      "text/plain": [
       "7"
      ]
     },
     "execution_count": 258,
     "metadata": {},
     "output_type": "execute_result"
    }
   ],
   "source": [
    "#cantidad de filas\n",
    "len(df)\n"
   ]
  },
  {
   "cell_type": "code",
   "execution_count": 259,
   "metadata": {
    "ExecuteTime": {
     "end_time": "2019-11-01T15:48:45.118320Z",
     "start_time": "2019-11-01T15:48:45.111800Z"
    }
   },
   "outputs": [
    {
     "name": "stdout",
     "output_type": "stream",
     "text": [
      "Argentina\n",
      "Colombia\n",
      "Espana\n",
      "Mexico\n",
      "Venezuela\n",
      "Brasil\n",
      "Chile\n"
     ]
    }
   ],
   "source": [
    "#Iterar un dataframe\n",
    "for index, row in df.iterrows():    \n",
    "    print(row['Pais'])\n"
   ]
  },
  {
   "cell_type": "code",
   "execution_count": 260,
   "metadata": {
    "ExecuteTime": {
     "end_time": "2019-11-01T16:14:18.686615Z",
     "start_time": "2019-11-01T16:14:18.676083Z"
    }
   },
   "outputs": [
    {
     "name": "stdout",
     "output_type": "stream",
     "text": [
      "55.6\n",
      "278.0\n",
      "5\n",
      "17.0\n",
      "111.0\n"
     ]
    }
   ],
   "source": [
    "# Obtener sumatoria, media y cantidad de una columna\n",
    "print(df['Habit_x_km2'].mean())\n",
    "print(df['Habit_x_km2'].sum())\n",
    "print(df['Habit_x_km2'].count())\n",
    "print(df['Habit_x_km2'].min())\n",
    "print(df['Habit_x_km2'].max())\n"
   ]
  },
  {
   "cell_type": "code",
   "execution_count": 261,
   "metadata": {
    "ExecuteTime": {
     "end_time": "2019-11-01T15:48:45.404594Z",
     "start_time": "2019-11-01T15:48:45.396695Z"
    }
   },
   "outputs": [
    {
     "data": {
      "text/plain": [
       "Categoria      2\n",
       "Codigo         2\n",
       "Habit_x_km2    2\n",
       "Pais           0\n",
       "Poblacion      0\n",
       "Superficie     0\n",
       "dtype: int64"
      ]
     },
     "execution_count": 261,
     "metadata": {},
     "output_type": "execute_result"
    }
   ],
   "source": [
    "# Revisar si tenemos nulos en la tabla\n",
    "df.isnull().sum()\n"
   ]
  },
  {
   "cell_type": "code",
   "execution_count": 262,
   "metadata": {
    "ExecuteTime": {
     "end_time": "2019-11-01T15:53:42.527742Z",
     "start_time": "2019-11-01T15:53:42.520437Z"
    }
   },
   "outputs": [
    {
     "data": {
      "text/plain": [
       "0    1964375\n",
       "1    2780400\n",
       "2     505944\n",
       "3    1142748\n",
       "4     916445\n",
       "5    8515770\n",
       "6      56102\n",
       "Name: Superficie, dtype: int64"
      ]
     },
     "execution_count": 262,
     "metadata": {},
     "output_type": "execute_result"
    }
   ],
   "source": [
    "#acceso a una columna\n",
    "df.Superficie\n"
   ]
  },
  {
   "cell_type": "code",
   "execution_count": 263,
   "metadata": {
    "ExecuteTime": {
     "end_time": "2019-11-01T15:54:15.168930Z",
     "start_time": "2019-11-01T15:54:15.162817Z"
    }
   },
   "outputs": [
    {
     "data": {
      "text/plain": [
       "array(['C', 'A', 'B', nan], dtype=object)"
      ]
     },
     "execution_count": 263,
     "metadata": {},
     "output_type": "execute_result"
    }
   ],
   "source": [
    "# unicos\n",
    "df.Categoria.unique()\n"
   ]
  },
  {
   "cell_type": "code",
   "execution_count": 264,
   "metadata": {
    "ExecuteTime": {
     "end_time": "2019-11-01T15:54:38.800040Z",
     "start_time": "2019-11-01T15:54:38.794408Z"
    }
   },
   "outputs": [
    {
     "data": {
      "text/plain": [
       "4"
      ]
     },
     "execution_count": 264,
     "metadata": {},
     "output_type": "execute_result"
    }
   ],
   "source": [
    "# cantidad de unicos\n",
    "len(df.Categoria.unique())\n"
   ]
  },
  {
   "cell_type": "code",
   "execution_count": 265,
   "metadata": {
    "ExecuteTime": {
     "end_time": "2019-11-01T16:21:27.013185Z",
     "start_time": "2019-11-01T16:21:27.005734Z"
    }
   },
   "outputs": [
    {
     "data": {
      "text/plain": [
       "Categoria\n",
       "C    2\n",
       "B    2\n",
       "A    1\n",
       "Name: count, dtype: int64"
      ]
     },
     "execution_count": 265,
     "metadata": {},
     "output_type": "execute_result"
    }
   ],
   "source": [
    "# contabilizar por una columna\n",
    "# pd.value_counts(df['Categoria'], sort = True) # deprecado\n",
    "df['Categoria'].value_counts(sort=True)\n"
   ]
  },
  {
   "cell_type": "code",
   "execution_count": 266,
   "metadata": {
    "ExecuteTime": {
     "end_time": "2019-11-01T16:24:48.876826Z",
     "start_time": "2019-11-01T16:24:48.869436Z"
    }
   },
   "outputs": [
    {
     "data": {
      "text/plain": [
       "Categoria           NaN\n",
       "Codigo              NaN\n",
       "Habit_x_km2         NaN\n",
       "Pais              Chile\n",
       "Poblacion      19241000\n",
       "Superficie        56102\n",
       "Name: 6, dtype: object"
      ]
     },
     "execution_count": 266,
     "metadata": {},
     "output_type": "execute_result"
    }
   ],
   "source": [
    "# Obtener ultima fila\n",
    "df.iloc[-1]\n"
   ]
  },
  {
   "cell_type": "code",
   "execution_count": 267,
   "metadata": {
    "ExecuteTime": {
     "end_time": "2019-11-01T16:25:29.673946Z",
     "start_time": "2019-11-01T16:25:29.667260Z"
    }
   },
   "outputs": [
    {
     "data": {
      "text/plain": [
       "0      C\n",
       "1      A\n",
       "2      B\n",
       "3      B\n",
       "4      C\n",
       "5    NaN\n",
       "6    NaN\n",
       "Name: Categoria, dtype: object"
      ]
     },
     "execution_count": 267,
     "metadata": {},
     "output_type": "execute_result"
    }
   ],
   "source": [
    "# obtener primera columna\n",
    "df.iloc[:,0]\n"
   ]
  },
  {
   "cell_type": "code",
   "execution_count": 268,
   "metadata": {
    "ExecuteTime": {
     "end_time": "2019-11-01T16:26:27.040151Z",
     "start_time": "2019-11-01T16:26:27.032513Z"
    }
   },
   "outputs": [
    {
     "data": {
      "text/plain": [
       "Categoria             B\n",
       "Codigo             ESPA\n",
       "Habit_x_km2        93.0\n",
       "Pais             Espana\n",
       "Poblacion      47099000\n",
       "Superficie       505944\n",
       "Name: 2, dtype: object"
      ]
     },
     "execution_count": 268,
     "metadata": {},
     "output_type": "execute_result"
    }
   ],
   "source": [
    "# Busco por indice\n",
    "df.loc[2]\n"
   ]
  },
  {
   "cell_type": "code",
   "execution_count": 269,
   "metadata": {
    "ExecuteTime": {
     "end_time": "2019-11-01T16:30:21.541499Z",
     "start_time": "2019-11-01T16:30:21.535748Z"
    }
   },
   "outputs": [
    {
     "data": {
      "text/plain": [
       "Index(['Categoria', 'Codigo', 'Habit_x_km2', 'Pais', 'Poblacion',\n",
       "       'Superficie'],\n",
       "      dtype='object')"
      ]
     },
     "execution_count": 269,
     "metadata": {},
     "output_type": "execute_result"
    }
   ],
   "source": [
    "df.columns\n"
   ]
  },
  {
   "cell_type": "code",
   "execution_count": 270,
   "metadata": {
    "ExecuteTime": {
     "end_time": "2019-11-01T16:29:00.459256Z",
     "start_time": "2019-11-01T16:29:00.449058Z"
    }
   },
   "outputs": [
    {
     "data": {
      "text/html": [
       "<div>\n",
       "<style scoped>\n",
       "    .dataframe tbody tr th:only-of-type {\n",
       "        vertical-align: middle;\n",
       "    }\n",
       "\n",
       "    .dataframe tbody tr th {\n",
       "        vertical-align: top;\n",
       "    }\n",
       "\n",
       "    .dataframe thead th {\n",
       "        text-align: right;\n",
       "    }\n",
       "</style>\n",
       "<table border=\"1\" class=\"dataframe\">\n",
       "  <thead>\n",
       "    <tr style=\"text-align: right;\">\n",
       "      <th></th>\n",
       "      <th>Pais</th>\n",
       "    </tr>\n",
       "  </thead>\n",
       "  <tbody>\n",
       "    <tr>\n",
       "      <th>2</th>\n",
       "      <td>Espana</td>\n",
       "    </tr>\n",
       "    <tr>\n",
       "      <th>4</th>\n",
       "      <td>Venezuela</td>\n",
       "    </tr>\n",
       "    <tr>\n",
       "      <th>6</th>\n",
       "      <td>Chile</td>\n",
       "    </tr>\n",
       "  </tbody>\n",
       "</table>\n",
       "</div>"
      ],
      "text/plain": [
       "        Pais\n",
       "2     Espana\n",
       "4  Venezuela\n",
       "6      Chile"
      ]
     },
     "execution_count": 270,
     "metadata": {},
     "output_type": "execute_result"
    }
   ],
   "source": [
    "# obtner una columna dentro de una condicion\n",
    "df.loc[(df['Superficie'] < 1000000), [\"Pais\"]]\n"
   ]
  },
  {
   "cell_type": "code",
   "execution_count": 271,
   "metadata": {
    "ExecuteTime": {
     "end_time": "2019-11-01T16:31:45.314846Z",
     "start_time": "2019-11-01T16:31:45.299595Z"
    }
   },
   "outputs": [
    {
     "data": {
      "text/html": [
       "<div>\n",
       "<style scoped>\n",
       "    .dataframe tbody tr th:only-of-type {\n",
       "        vertical-align: middle;\n",
       "    }\n",
       "\n",
       "    .dataframe tbody tr th {\n",
       "        vertical-align: top;\n",
       "    }\n",
       "\n",
       "    .dataframe thead th {\n",
       "        text-align: right;\n",
       "    }\n",
       "</style>\n",
       "<table border=\"1\" class=\"dataframe\">\n",
       "  <thead>\n",
       "    <tr style=\"text-align: right;\">\n",
       "      <th></th>\n",
       "      <th>Categoria</th>\n",
       "      <th>Codigo</th>\n",
       "      <th>Habit_x_km2</th>\n",
       "      <th>Pais</th>\n",
       "      <th>Poblacion</th>\n",
       "      <th>Superficie</th>\n",
       "    </tr>\n",
       "  </thead>\n",
       "  <tbody>\n",
       "    <tr>\n",
       "      <th>0</th>\n",
       "      <td>C</td>\n",
       "      <td>ARGE</td>\n",
       "      <td>22.0</td>\n",
       "      <td>Argentina</td>\n",
       "      <td>45167000</td>\n",
       "      <td>1964375</td>\n",
       "    </tr>\n",
       "    <tr>\n",
       "      <th>1</th>\n",
       "      <td>A</td>\n",
       "      <td>COLO</td>\n",
       "      <td>17.0</td>\n",
       "      <td>Colombia</td>\n",
       "      <td>48922000</td>\n",
       "      <td>2780400</td>\n",
       "    </tr>\n",
       "    <tr>\n",
       "      <th>2</th>\n",
       "      <td>D</td>\n",
       "      <td>ESPA</td>\n",
       "      <td>93.0</td>\n",
       "      <td>Espana</td>\n",
       "      <td>47099000</td>\n",
       "      <td>505944</td>\n",
       "    </tr>\n",
       "    <tr>\n",
       "      <th>3</th>\n",
       "      <td>B</td>\n",
       "      <td>MEXI</td>\n",
       "      <td>111.0</td>\n",
       "      <td>Mexico</td>\n",
       "      <td>127212000</td>\n",
       "      <td>1142748</td>\n",
       "    </tr>\n",
       "    <tr>\n",
       "      <th>4</th>\n",
       "      <td>D</td>\n",
       "      <td>VENE</td>\n",
       "      <td>35.0</td>\n",
       "      <td>Venezuela</td>\n",
       "      <td>32423000</td>\n",
       "      <td>916445</td>\n",
       "    </tr>\n",
       "    <tr>\n",
       "      <th>5</th>\n",
       "      <td>NaN</td>\n",
       "      <td>NaN</td>\n",
       "      <td>NaN</td>\n",
       "      <td>Brasil</td>\n",
       "      <td>210688000</td>\n",
       "      <td>8515770</td>\n",
       "    </tr>\n",
       "    <tr>\n",
       "      <th>6</th>\n",
       "      <td>D</td>\n",
       "      <td>NaN</td>\n",
       "      <td>NaN</td>\n",
       "      <td>Chile</td>\n",
       "      <td>19241000</td>\n",
       "      <td>56102</td>\n",
       "    </tr>\n",
       "  </tbody>\n",
       "</table>\n",
       "</div>"
      ],
      "text/plain": [
       "  Categoria Codigo  Habit_x_km2       Pais  Poblacion  Superficie\n",
       "0         C   ARGE         22.0  Argentina   45167000     1964375\n",
       "1         A   COLO         17.0   Colombia   48922000     2780400\n",
       "2         D   ESPA         93.0     Espana   47099000      505944\n",
       "3         B   MEXI        111.0     Mexico  127212000     1142748\n",
       "4         D   VENE         35.0  Venezuela   32423000      916445\n",
       "5       NaN    NaN          NaN     Brasil  210688000     8515770\n",
       "6         D    NaN          NaN      Chile   19241000       56102"
      ]
     },
     "execution_count": 271,
     "metadata": {},
     "output_type": "execute_result"
    }
   ],
   "source": [
    "# Modificar Valor con loc\n",
    "df.loc[(df['Superficie'] < 1000000), \"Categoria\"] = 'D'\n",
    "df\n"
   ]
  },
  {
   "cell_type": "code",
   "execution_count": null,
   "metadata": {},
   "outputs": [],
   "source": []
  }
 ],
 "metadata": {
  "kernelspec": {
   "display_name": "uade-ccdd",
   "language": "python",
   "name": "python3"
  },
  "language_info": {
   "codemirror_mode": {
    "name": "ipython",
    "version": 3
   },
   "file_extension": ".py",
   "mimetype": "text/x-python",
   "name": "python",
   "nbconvert_exporter": "python",
   "pygments_lexer": "ipython3",
   "version": "3.12.0"
  }
 },
 "nbformat": 4,
 "nbformat_minor": 2
}
